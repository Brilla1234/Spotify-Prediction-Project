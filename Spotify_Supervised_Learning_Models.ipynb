{
  "nbformat": 4,
  "nbformat_minor": 0,
  "metadata": {
    "colab": {
      "name": "Spotify Supervised Learning Models.ipynb",
      "provenance": [],
      "collapsed_sections": [],
      "include_colab_link": true
    },
    "kernelspec": {
      "name": "python3",
      "display_name": "Python 3"
    },
    "language_info": {
      "name": "python"
    }
  },
  "cells": [
    {
      "cell_type": "markdown",
      "metadata": {
        "id": "view-in-github",
        "colab_type": "text"
      },
      "source": [
        "<a href=\"https://colab.research.google.com/github/Brilla1234/Spotify-Prediction-Project/blob/main/Spotify_Supervised_Learning_Models.ipynb\" target=\"_parent\"><img src=\"https://colab.research.google.com/assets/colab-badge.svg\" alt=\"Open In Colab\"/></a>"
      ]
    },
    {
      "cell_type": "code",
      "metadata": {
        "id": "jsFqTaEQFn6e"
      },
      "source": [
        "# IMPORT LIBRARIES\n",
        "import pandas as pd\n",
        "from copy import deepcopy\n",
        "import seaborn as sns\n",
        "import matplotlib.pyplot as plt\n",
        "from sklearn.preprocessing import LabelEncoder # handle categorical data\n",
        "from sklearn.metrics import mean_squared_error as mse # evaluation metrics / error\n",
        "from sklearn.metrics import mean_absolute_error as mae # evaluation metrics / error\n",
        "from sklearn.metrics import accuracy_score\n",
        "from sklearn.model_selection import train_test_split # train test split: split the data\n",
        "from sklearn.tree import DecisionTreeClassifier, export_graphviz # decision trees and visualization\n",
        "from sklearn.ensemble import RandomForestClassifier # models\n",
        "from sklearn.linear_model import LogisticRegression\n",
        "from sklearn.pipeline import make_pipeline\n",
        "from sklearn.preprocessing import StandardScaler\n",
        "from sklearn.metrics import multilabel_confusion_matrix, confusion_matrix\n",
        "import plotly.express as px\n",
        "import plotly.graph_objects as go"
      ],
      "execution_count": null,
      "outputs": []
    },
    {
      "cell_type": "markdown",
      "metadata": {
        "id": "rlZ06I_MDl6b"
      },
      "source": [
        "### Load Data"
      ]
    },
    {
      "cell_type": "code",
      "metadata": {
        "colab": {
          "base_uri": "https://localhost:8080/"
        },
        "id": "W3TlFSiTNVDm",
        "outputId": "818cfa78-5dd1-4ec7-f0f4-ed3ee993806d"
      },
      "source": [
        "# spotify_tracks.csv\n",
        "url = 'https://drive.google.com/file/d/1qvEcBTp0YoxBaCfyvj5_vh99J6qR6HWY/view?usp=sharing'\n",
        "\n",
        "# spotify_genre.csv\n",
        "url = \"https://drive.google.com/file/d/1hPKmiRJy2Gb_rwqWcrY9OwMNk-Zn7PVK/view?usp=sharing\"\n",
        "path = 'https://drive.google.com/uc?export=download&id='+url.split('/')[-2]\n",
        "df = pd.read_csv(path)"
      ],
      "execution_count": null,
      "outputs": [
        {
          "output_type": "stream",
          "name": "stderr",
          "text": [
            "/usr/local/lib/python3.7/dist-packages/IPython/core/interactiveshell.py:2718: DtypeWarning:\n",
            "\n",
            "Columns (15) have mixed types.Specify dtype option on import or set low_memory=False.\n",
            "\n"
          ]
        }
      ]
    },
    {
      "cell_type": "markdown",
      "metadata": {
        "id": "4dpxIMTcDn-5"
      },
      "source": [
        "### Some data exploration"
      ]
    },
    {
      "cell_type": "code",
      "metadata": {
        "colab": {
          "base_uri": "https://localhost:8080/",
          "height": 167
        },
        "id": "uBLvEVboNeU_",
        "outputId": "fe702779-57e9-4c3e-9b6b-f5431d208ed8"
      },
      "source": [
        "df.head(2)"
      ],
      "execution_count": null,
      "outputs": [
        {
          "output_type": "execute_result",
          "data": {
            "text/html": [
              "<div>\n",
              "<style scoped>\n",
              "    .dataframe tbody tr th:only-of-type {\n",
              "        vertical-align: middle;\n",
              "    }\n",
              "\n",
              "    .dataframe tbody tr th {\n",
              "        vertical-align: top;\n",
              "    }\n",
              "\n",
              "    .dataframe thead th {\n",
              "        text-align: right;\n",
              "    }\n",
              "</style>\n",
              "<table border=\"1\" class=\"dataframe\">\n",
              "  <thead>\n",
              "    <tr style=\"text-align: right;\">\n",
              "      <th></th>\n",
              "      <th>danceability</th>\n",
              "      <th>energy</th>\n",
              "      <th>key</th>\n",
              "      <th>loudness</th>\n",
              "      <th>mode</th>\n",
              "      <th>speechiness</th>\n",
              "      <th>acousticness</th>\n",
              "      <th>instrumentalness</th>\n",
              "      <th>liveness</th>\n",
              "      <th>valence</th>\n",
              "      <th>tempo</th>\n",
              "      <th>id</th>\n",
              "      <th>duration_ms</th>\n",
              "      <th>time_signature</th>\n",
              "      <th>genre</th>\n",
              "      <th>name</th>\n",
              "    </tr>\n",
              "  </thead>\n",
              "  <tbody>\n",
              "    <tr>\n",
              "      <th>0</th>\n",
              "      <td>0.831</td>\n",
              "      <td>0.814</td>\n",
              "      <td>2</td>\n",
              "      <td>-7.364</td>\n",
              "      <td>1</td>\n",
              "      <td>0.4200</td>\n",
              "      <td>0.0598</td>\n",
              "      <td>0.0134</td>\n",
              "      <td>0.0556</td>\n",
              "      <td>0.389</td>\n",
              "      <td>156.985</td>\n",
              "      <td>2Vc6NJ9PW9gD9q343XFRKx</td>\n",
              "      <td>124539</td>\n",
              "      <td>4</td>\n",
              "      <td>Dark Trap</td>\n",
              "      <td>Mercury: Retrograde</td>\n",
              "    </tr>\n",
              "    <tr>\n",
              "      <th>1</th>\n",
              "      <td>0.719</td>\n",
              "      <td>0.493</td>\n",
              "      <td>8</td>\n",
              "      <td>-7.230</td>\n",
              "      <td>1</td>\n",
              "      <td>0.0794</td>\n",
              "      <td>0.4010</td>\n",
              "      <td>0.0000</td>\n",
              "      <td>0.1180</td>\n",
              "      <td>0.124</td>\n",
              "      <td>115.080</td>\n",
              "      <td>7pgJBLVz5VmnL7uGHmRj6p</td>\n",
              "      <td>224427</td>\n",
              "      <td>4</td>\n",
              "      <td>Dark Trap</td>\n",
              "      <td>Pathology</td>\n",
              "    </tr>\n",
              "  </tbody>\n",
              "</table>\n",
              "</div>"
            ],
            "text/plain": [
              "   danceability  energy  key  ...  time_signature      genre                 name\n",
              "0         0.831   0.814    2  ...               4  Dark Trap  Mercury: Retrograde\n",
              "1         0.719   0.493    8  ...               4  Dark Trap            Pathology\n",
              "\n",
              "[2 rows x 16 columns]"
            ]
          },
          "metadata": {},
          "execution_count": 4
        }
      ]
    },
    {
      "cell_type": "code",
      "metadata": {
        "colab": {
          "base_uri": "https://localhost:8080/"
        },
        "id": "wOajSmLYNha3",
        "outputId": "359e6e70-702c-4277-e6f8-a29b20e70871"
      },
      "source": [
        "df.shape"
      ],
      "execution_count": null,
      "outputs": [
        {
          "output_type": "execute_result",
          "data": {
            "text/plain": [
              "(42305, 16)"
            ]
          },
          "metadata": {},
          "execution_count": 5
        }
      ]
    },
    {
      "cell_type": "code",
      "metadata": {
        "colab": {
          "base_uri": "https://localhost:8080/",
          "height": 360
        },
        "id": "_zjpeczoNk7V",
        "outputId": "2b2c330b-3885-45c8-b32c-ea7a9416d555"
      },
      "source": [
        "df.genre.value_counts().plot.bar()   # Because underground Rap & Dark trap are the most frequent genres, we build a simple classifier on that."
      ],
      "execution_count": null,
      "outputs": [
        {
          "output_type": "execute_result",
          "data": {
            "text/plain": [
              "<matplotlib.axes._subplots.AxesSubplot at 0x7fbda47d6150>"
            ]
          },
          "metadata": {},
          "execution_count": 6
        },
        {
          "output_type": "display_data",
          "data": {
            "image/png": "[encoded data removed]",
            "text/plain": [
              "<Figure size 432x288 with 1 Axes>"
            ]
          },
          "metadata": {
            "needs_background": "light"
          }
        }
      ]
    },
    {
      "cell_type": "code",
      "metadata": {
        "colab": {
          "base_uri": "https://localhost:8080/",
          "height": 320
        },
        "id": "o1nKtkRYNnoB",
        "outputId": "9afb4c99-31c2-4900-dc5e-78888ee4508f"
      },
      "source": [
        "df.describe()"
      ],
      "execution_count": null,
      "outputs": [
        {
          "output_type": "execute_result",
          "data": {
            "text/html": [
              "<div>\n",
              "<style scoped>\n",
              "    .dataframe tbody tr th:only-of-type {\n",
              "        vertical-align: middle;\n",
              "    }\n",
              "\n",
              "    .dataframe tbody tr th {\n",
              "        vertical-align: top;\n",
              "    }\n",
              "\n",
              "    .dataframe thead th {\n",
              "        text-align: right;\n",
              "    }\n",
              "</style>\n",
              "<table border=\"1\" class=\"dataframe\">\n",
              "  <thead>\n",
              "    <tr style=\"text-align: right;\">\n",
              "      <th></th>\n",
              "      <th>danceability</th>\n",
              "      <th>energy</th>\n",
              "      <th>key</th>\n",
              "      <th>loudness</th>\n",
              "      <th>mode</th>\n",
              "      <th>speechiness</th>\n",
              "      <th>acousticness</th>\n",
              "      <th>instrumentalness</th>\n",
              "      <th>liveness</th>\n",
              "      <th>valence</th>\n",
              "      <th>tempo</th>\n",
              "      <th>duration_ms</th>\n",
              "      <th>time_signature</th>\n",
              "    </tr>\n",
              "  </thead>\n",
              "  <tbody>\n",
              "    <tr>\n",
              "      <th>count</th>\n",
              "      <td>42305.000000</td>\n",
              "      <td>42305.000000</td>\n",
              "      <td>42305.000000</td>\n",
              "      <td>42305.000000</td>\n",
              "      <td>42305.000000</td>\n",
              "      <td>42305.000000</td>\n",
              "      <td>42305.000000</td>\n",
              "      <td>42305.000000</td>\n",
              "      <td>42305.000000</td>\n",
              "      <td>42305.000000</td>\n",
              "      <td>42305.000000</td>\n",
              "      <td>42305.000000</td>\n",
              "      <td>42305.000000</td>\n",
              "    </tr>\n",
              "    <tr>\n",
              "      <th>mean</th>\n",
              "      <td>0.639364</td>\n",
              "      <td>0.762516</td>\n",
              "      <td>5.370240</td>\n",
              "      <td>-6.465442</td>\n",
              "      <td>0.549462</td>\n",
              "      <td>0.136561</td>\n",
              "      <td>0.096160</td>\n",
              "      <td>0.283048</td>\n",
              "      <td>0.214079</td>\n",
              "      <td>0.357101</td>\n",
              "      <td>147.474056</td>\n",
              "      <td>250865.846685</td>\n",
              "      <td>3.972580</td>\n",
              "    </tr>\n",
              "    <tr>\n",
              "      <th>std</th>\n",
              "      <td>0.156617</td>\n",
              "      <td>0.183823</td>\n",
              "      <td>3.666145</td>\n",
              "      <td>2.941165</td>\n",
              "      <td>0.497553</td>\n",
              "      <td>0.126168</td>\n",
              "      <td>0.170827</td>\n",
              "      <td>0.370791</td>\n",
              "      <td>0.175576</td>\n",
              "      <td>0.233200</td>\n",
              "      <td>23.844623</td>\n",
              "      <td>102957.713571</td>\n",
              "      <td>0.268342</td>\n",
              "    </tr>\n",
              "    <tr>\n",
              "      <th>min</th>\n",
              "      <td>0.065100</td>\n",
              "      <td>0.000243</td>\n",
              "      <td>0.000000</td>\n",
              "      <td>-33.357000</td>\n",
              "      <td>0.000000</td>\n",
              "      <td>0.022700</td>\n",
              "      <td>0.000001</td>\n",
              "      <td>0.000000</td>\n",
              "      <td>0.010700</td>\n",
              "      <td>0.018700</td>\n",
              "      <td>57.967000</td>\n",
              "      <td>25600.000000</td>\n",
              "      <td>1.000000</td>\n",
              "    </tr>\n",
              "    <tr>\n",
              "      <th>25%</th>\n",
              "      <td>0.524000</td>\n",
              "      <td>0.632000</td>\n",
              "      <td>1.000000</td>\n",
              "      <td>-8.161000</td>\n",
              "      <td>0.000000</td>\n",
              "      <td>0.049100</td>\n",
              "      <td>0.001730</td>\n",
              "      <td>0.000000</td>\n",
              "      <td>0.099600</td>\n",
              "      <td>0.161000</td>\n",
              "      <td>129.931000</td>\n",
              "      <td>179840.000000</td>\n",
              "      <td>4.000000</td>\n",
              "    </tr>\n",
              "    <tr>\n",
              "      <th>50%</th>\n",
              "      <td>0.646000</td>\n",
              "      <td>0.803000</td>\n",
              "      <td>6.000000</td>\n",
              "      <td>-6.234000</td>\n",
              "      <td>1.000000</td>\n",
              "      <td>0.075500</td>\n",
              "      <td>0.016400</td>\n",
              "      <td>0.005940</td>\n",
              "      <td>0.135000</td>\n",
              "      <td>0.322000</td>\n",
              "      <td>144.973000</td>\n",
              "      <td>224760.000000</td>\n",
              "      <td>4.000000</td>\n",
              "    </tr>\n",
              "    <tr>\n",
              "      <th>75%</th>\n",
              "      <td>0.766000</td>\n",
              "      <td>0.923000</td>\n",
              "      <td>9.000000</td>\n",
              "      <td>-4.513000</td>\n",
              "      <td>1.000000</td>\n",
              "      <td>0.193000</td>\n",
              "      <td>0.107000</td>\n",
              "      <td>0.722000</td>\n",
              "      <td>0.294000</td>\n",
              "      <td>0.522000</td>\n",
              "      <td>161.464000</td>\n",
              "      <td>301133.000000</td>\n",
              "      <td>4.000000</td>\n",
              "    </tr>\n",
              "    <tr>\n",
              "      <th>max</th>\n",
              "      <td>0.988000</td>\n",
              "      <td>1.000000</td>\n",
              "      <td>11.000000</td>\n",
              "      <td>3.148000</td>\n",
              "      <td>1.000000</td>\n",
              "      <td>0.946000</td>\n",
              "      <td>0.988000</td>\n",
              "      <td>0.989000</td>\n",
              "      <td>0.988000</td>\n",
              "      <td>0.988000</td>\n",
              "      <td>220.290000</td>\n",
              "      <td>913052.000000</td>\n",
              "      <td>5.000000</td>\n",
              "    </tr>\n",
              "  </tbody>\n",
              "</table>\n",
              "</div>"
            ],
            "text/plain": [
              "       danceability        energy  ...    duration_ms  time_signature\n",
              "count  42305.000000  42305.000000  ...   42305.000000    42305.000000\n",
              "mean       0.639364      0.762516  ...  250865.846685        3.972580\n",
              "std        0.156617      0.183823  ...  102957.713571        0.268342\n",
              "min        0.065100      0.000243  ...   25600.000000        1.000000\n",
              "25%        0.524000      0.632000  ...  179840.000000        4.000000\n",
              "50%        0.646000      0.803000  ...  224760.000000        4.000000\n",
              "75%        0.766000      0.923000  ...  301133.000000        4.000000\n",
              "max        0.988000      1.000000  ...  913052.000000        5.000000\n",
              "\n",
              "[8 rows x 13 columns]"
            ]
          },
          "metadata": {},
          "execution_count": 7
        }
      ]
    },
    {
      "cell_type": "code",
      "metadata": {
        "colab": {
          "base_uri": "https://localhost:8080/"
        },
        "id": "K3FzgsetNqzO",
        "outputId": "c83ebab2-7e94-47ce-c8bf-3694668d3f96"
      },
      "source": [
        "df[\"name\"]"
      ],
      "execution_count": null,
      "outputs": [
        {
          "output_type": "execute_result",
          "data": {
            "text/plain": [
              "0                                  Mercury: Retrograde\n",
              "1                                            Pathology\n",
              "2                                             Symbiote\n",
              "3        ProductOfDrugs (Prod. The Virus and Antidote)\n",
              "4                                                Venom\n",
              "                             ...                      \n",
              "42300                                              NaN\n",
              "42301                                              NaN\n",
              "42302                                              NaN\n",
              "42303                                              NaN\n",
              "42304                                              NaN\n",
              "Name: name, Length: 42305, dtype: object"
            ]
          },
          "metadata": {},
          "execution_count": 8
        }
      ]
    },
    {
      "cell_type": "code",
      "metadata": {
        "colab": {
          "base_uri": "https://localhost:8080/"
        },
        "id": "guGCX4e4N6Db",
        "outputId": "7bfb7e64-e2e7-4b8b-dc04-6def67f6f037"
      },
      "source": [
        "df.columns"
      ],
      "execution_count": null,
      "outputs": [
        {
          "output_type": "execute_result",
          "data": {
            "text/plain": [
              "Index(['danceability', 'energy', 'key', 'loudness', 'mode', 'speechiness',\n",
              "       'acousticness', 'instrumentalness', 'liveness', 'valence', 'tempo',\n",
              "       'id', 'duration_ms', 'time_signature', 'genre', 'name'],\n",
              "      dtype='object')"
            ]
          },
          "metadata": {},
          "execution_count": 9
        }
      ]
    },
    {
      "cell_type": "code",
      "metadata": {
        "id": "uOtBUiK6N8ol"
      },
      "source": [
        "df1 = df.drop(['name', 'id', 'genre'], axis = 1)\n",
        "df2 = df.drop(['name', 'id', 'genre', 'tempo', 'key', 'duration_ms', 'loudness', 'time_signature'], axis = 1)"
      ],
      "execution_count": null,
      "outputs": []
    },
    {
      "cell_type": "code",
      "metadata": {
        "colab": {
          "base_uri": "https://localhost:8080/",
          "height": 364
        },
        "id": "VX5G66OIN--p",
        "outputId": "d6ca8a2c-3920-45b8-d00a-21bd5f967846"
      },
      "source": [
        "sns.heatmap(df1)"
      ],
      "execution_count": null,
      "outputs": [
        {
          "output_type": "execute_result",
          "data": {
            "text/plain": [
              "<matplotlib.axes._subplots.AxesSubplot at 0x7fbda4867450>"
            ]
          },
          "metadata": {},
          "execution_count": 11
        },
        {
          "output_type": "display_data",
          "data": {
            "image/png": "[encoded data removed]",
            "text/plain": [
              "<Figure size 432x288 with 2 Axes>"
            ]
          },
          "metadata": {
            "needs_background": "light"
          }
        }
      ]
    },
    {
      "cell_type": "code",
      "metadata": {
        "colab": {
          "base_uri": "https://localhost:8080/",
          "height": 364
        },
        "id": "0tF0Dmo-EwNL",
        "outputId": "5241df11-aa97-4a7f-e272-eb4bd5f79d6d"
      },
      "source": [
        "sns.heatmap(df2)"
      ],
      "execution_count": null,
      "outputs": [
        {
          "output_type": "execute_result",
          "data": {
            "text/plain": [
              "<matplotlib.axes._subplots.AxesSubplot at 0x7fbd9c1713d0>"
            ]
          },
          "metadata": {},
          "execution_count": 12
        },
        {
          "output_type": "display_data",
          "data": {
            "image/png": "[encoded data removed]",
            "text/plain": [
              "<Figure size 432x288 with 2 Axes>"
            ]
          },
          "metadata": {
            "needs_background": "light"
          }
        }
      ]
    },
    {
      "cell_type": "markdown",
      "metadata": {
        "id": "z6kSem9DFkdg"
      },
      "source": [
        "## Building binary classifier"
      ]
    },
    {
      "cell_type": "code",
      "metadata": {
        "id": "m3VRNmX6OL_C"
      },
      "source": [
        "# 'name' has missing values and cannot be used for classification because every name only appear once\n",
        "df.drop(columns = 'name', inplace=True)"
      ],
      "execution_count": null,
      "outputs": []
    },
    {
      "cell_type": "code",
      "metadata": {
        "id": "mOmaCs4ZOOE4"
      },
      "source": [
        "# Define continuous and categorical columns\n",
        "CONT_COLS = [ 'danceability','energy','loudness','speechiness','acousticness','instrumentalness',\n",
        "            'liveness','valence','duration_ms']\n",
        "CAT_COLS = ['genre', 'id', 'tempo', 'time_signature','key']\n",
        "\n",
        "# make a label for \"is_undergroundrap\"\n",
        "df[\"is_undergroundrap\"] = 0\n",
        "df.loc[df[\"genre\"]==\"Underground Rap\", \"is_undergroundrap\"] = 1\n",
        "\n",
        "# note: time_signature as normal numerlical feature?"
      ],
      "execution_count": null,
      "outputs": []
    },
    {
      "cell_type": "code",
      "metadata": {
        "colab": {
          "base_uri": "https://localhost:8080/"
        },
        "id": "ep8nXre7OSpj",
        "outputId": "4740678a-81ab-44ed-c210-01f13417ebae"
      },
      "source": [
        "df.dtypes"
      ],
      "execution_count": null,
      "outputs": [
        {
          "output_type": "execute_result",
          "data": {
            "text/plain": [
              "danceability         float64\n",
              "energy               float64\n",
              "key                    int64\n",
              "loudness             float64\n",
              "mode                   int64\n",
              "speechiness          float64\n",
              "acousticness         float64\n",
              "instrumentalness     float64\n",
              "liveness             float64\n",
              "valence              float64\n",
              "tempo                float64\n",
              "id                    object\n",
              "duration_ms            int64\n",
              "time_signature         int64\n",
              "genre                 object\n",
              "is_undergroundrap      int64\n",
              "dtype: object"
            ]
          },
          "metadata": {},
          "execution_count": 15
        }
      ]
    },
    {
      "cell_type": "code",
      "metadata": {
        "colab": {
          "base_uri": "https://localhost:8080/"
        },
        "id": "p8SrjjCsOU35",
        "outputId": "cf1bfd47-bf98-4220-8152-23398baa5771"
      },
      "source": [
        "df.genre.value_counts()"
      ],
      "execution_count": null,
      "outputs": [
        {
          "output_type": "execute_result",
          "data": {
            "text/plain": [
              "Underground Rap    5875\n",
              "Dark Trap          4578\n",
              "Hiphop             3028\n",
              "trance             2999\n",
              "trap               2987\n",
              "techhouse          2975\n",
              "dnb                2966\n",
              "psytrance          2961\n",
              "techno             2956\n",
              "hardstyle          2936\n",
              "RnB                2099\n",
              "Trap Metal         1956\n",
              "Rap                1848\n",
              "Emo                1680\n",
              "Pop                 461\n",
              "Name: genre, dtype: int64"
            ]
          },
          "metadata": {},
          "execution_count": 16
        }
      ]
    },
    {
      "cell_type": "code",
      "metadata": {
        "id": "BbY4hwY_OW0X"
      },
      "source": [
        "# labels\n",
        "y = df[\"is_undergroundrap\"].copy()\n",
        "# features\n",
        "x = df.drop(columns =[\"genre\", \"is_undergroundrap\", \"id\"]).copy()"
      ],
      "execution_count": null,
      "outputs": []
    },
    {
      "cell_type": "code",
      "source": [
        "# transform categorical data (mode, key, time_signature) into one-hot-encoded columns"
      ],
      "metadata": {
        "id": "T4O2qT8DOX80"
      },
      "execution_count": null,
      "outputs": []
    },
    {
      "cell_type": "markdown",
      "metadata": {
        "id": "izLajgMxNF5s"
      },
      "source": [
        "#### Create train and test datasets"
      ]
    },
    {
      "cell_type": "code",
      "metadata": {
        "id": "WzEpgmWdOY4Q"
      },
      "source": [
        "# train test split\n",
        "train_x, valid_x, train_y, valid_y = train_test_split(x, y, test_size=0.2, random_state = 42)\n"
      ],
      "execution_count": null,
      "outputs": []
    },
    {
      "cell_type": "code",
      "metadata": {
        "colab": {
          "base_uri": "https://localhost:8080/",
          "height": 206
        },
        "id": "ewNzMG9DOccY",
        "outputId": "10508277-676f-4440-f213-9548d0a8c5ff"
      },
      "source": [
        "# time signature is probably a categorical varibale (think \"blue\" and \"green\")\n",
        "# categorical variables have to be transformed with One Hot Encoding:\n",
        "# https://scikit-learn.org/stable/modules/generated/sklearn.preprocessing.OneHotEncoder.html\n",
        "train_x.head()"
      ],
      "execution_count": null,
      "outputs": [
        {
          "output_type": "execute_result",
          "data": {
            "text/html": [
              "<div>\n",
              "<style scoped>\n",
              "    .dataframe tbody tr th:only-of-type {\n",
              "        vertical-align: middle;\n",
              "    }\n",
              "\n",
              "    .dataframe tbody tr th {\n",
              "        vertical-align: top;\n",
              "    }\n",
              "\n",
              "    .dataframe thead th {\n",
              "        text-align: right;\n",
              "    }\n",
              "</style>\n",
              "<table border=\"1\" class=\"dataframe\">\n",
              "  <thead>\n",
              "    <tr style=\"text-align: right;\">\n",
              "      <th></th>\n",
              "      <th>danceability</th>\n",
              "      <th>energy</th>\n",
              "      <th>key</th>\n",
              "      <th>loudness</th>\n",
              "      <th>mode</th>\n",
              "      <th>speechiness</th>\n",
              "      <th>acousticness</th>\n",
              "      <th>instrumentalness</th>\n",
              "      <th>liveness</th>\n",
              "      <th>valence</th>\n",
              "      <th>tempo</th>\n",
              "      <th>duration_ms</th>\n",
              "      <th>time_signature</th>\n",
              "    </tr>\n",
              "  </thead>\n",
              "  <tbody>\n",
              "    <tr>\n",
              "      <th>6863</th>\n",
              "      <td>0.896</td>\n",
              "      <td>0.691</td>\n",
              "      <td>1</td>\n",
              "      <td>-7.403</td>\n",
              "      <td>1</td>\n",
              "      <td>0.369</td>\n",
              "      <td>0.01180</td>\n",
              "      <td>0.000</td>\n",
              "      <td>0.0883</td>\n",
              "      <td>0.6650</td>\n",
              "      <td>189.880</td>\n",
              "      <td>152398</td>\n",
              "      <td>4</td>\n",
              "    </tr>\n",
              "    <tr>\n",
              "      <th>30452</th>\n",
              "      <td>0.432</td>\n",
              "      <td>0.962</td>\n",
              "      <td>2</td>\n",
              "      <td>-5.834</td>\n",
              "      <td>1</td>\n",
              "      <td>0.130</td>\n",
              "      <td>0.00193</td>\n",
              "      <td>0.162</td>\n",
              "      <td>0.6300</td>\n",
              "      <td>0.1240</td>\n",
              "      <td>138.010</td>\n",
              "      <td>219085</td>\n",
              "      <td>4</td>\n",
              "    </tr>\n",
              "    <tr>\n",
              "      <th>8111</th>\n",
              "      <td>0.686</td>\n",
              "      <td>0.692</td>\n",
              "      <td>0</td>\n",
              "      <td>-5.573</td>\n",
              "      <td>0</td>\n",
              "      <td>0.323</td>\n",
              "      <td>0.48200</td>\n",
              "      <td>0.000</td>\n",
              "      <td>0.1690</td>\n",
              "      <td>0.6490</td>\n",
              "      <td>173.780</td>\n",
              "      <td>269357</td>\n",
              "      <td>3</td>\n",
              "    </tr>\n",
              "    <tr>\n",
              "      <th>36665</th>\n",
              "      <td>0.441</td>\n",
              "      <td>0.891</td>\n",
              "      <td>7</td>\n",
              "      <td>-2.873</td>\n",
              "      <td>0</td>\n",
              "      <td>0.037</td>\n",
              "      <td>0.01770</td>\n",
              "      <td>0.815</td>\n",
              "      <td>0.1840</td>\n",
              "      <td>0.0353</td>\n",
              "      <td>175.007</td>\n",
              "      <td>319851</td>\n",
              "      <td>4</td>\n",
              "    </tr>\n",
              "    <tr>\n",
              "      <th>4428</th>\n",
              "      <td>0.376</td>\n",
              "      <td>0.876</td>\n",
              "      <td>4</td>\n",
              "      <td>-2.695</td>\n",
              "      <td>0</td>\n",
              "      <td>0.101</td>\n",
              "      <td>0.03450</td>\n",
              "      <td>0.000</td>\n",
              "      <td>0.1250</td>\n",
              "      <td>0.2500</td>\n",
              "      <td>202.082</td>\n",
              "      <td>222442</td>\n",
              "      <td>4</td>\n",
              "    </tr>\n",
              "  </tbody>\n",
              "</table>\n",
              "</div>"
            ],
            "text/plain": [
              "       danceability  energy  key  ...    tempo  duration_ms  time_signature\n",
              "6863          0.896   0.691    1  ...  189.880       152398               4\n",
              "30452         0.432   0.962    2  ...  138.010       219085               4\n",
              "8111          0.686   0.692    0  ...  173.780       269357               3\n",
              "36665         0.441   0.891    7  ...  175.007       319851               4\n",
              "4428          0.376   0.876    4  ...  202.082       222442               4\n",
              "\n",
              "[5 rows x 13 columns]"
            ]
          },
          "metadata": {},
          "execution_count": 20
        }
      ]
    },
    {
      "cell_type": "code",
      "metadata": {
        "colab": {
          "base_uri": "https://localhost:8080/"
        },
        "id": "bP7wtR_POeqX",
        "outputId": "00887f6c-09e6-48cb-d0ab-6ce70a08c946"
      },
      "source": [
        "train_x.shape"
      ],
      "execution_count": null,
      "outputs": [
        {
          "output_type": "execute_result",
          "data": {
            "text/plain": [
              "(33844, 13)"
            ]
          },
          "metadata": {},
          "execution_count": 21
        }
      ]
    },
    {
      "cell_type": "code",
      "metadata": {
        "colab": {
          "base_uri": "https://localhost:8080/"
        },
        "id": "hmoOPu5yMrvq",
        "outputId": "eb1a8a0e-7bff-45d4-98e0-a99ed1f5cdb9"
      },
      "source": [
        "valid_x.shape"
      ],
      "execution_count": null,
      "outputs": [
        {
          "output_type": "execute_result",
          "data": {
            "text/plain": [
              "(8461, 13)"
            ]
          },
          "metadata": {},
          "execution_count": 22
        }
      ]
    },
    {
      "cell_type": "code",
      "metadata": {
        "colab": {
          "base_uri": "https://localhost:8080/"
        },
        "id": "O7gZIS3sOjdI",
        "outputId": "31581beb-4dab-4b66-9de4-61fc489e234f"
      },
      "source": [
        "train_y.head()"
      ],
      "execution_count": null,
      "outputs": [
        {
          "output_type": "execute_result",
          "data": {
            "text/plain": [
              "6863     1\n",
              "30452    0\n",
              "8111     1\n",
              "36665    0\n",
              "4428     0\n",
              "Name: is_undergroundrap, dtype: int64"
            ]
          },
          "metadata": {},
          "execution_count": 23
        }
      ]
    },
    {
      "cell_type": "code",
      "metadata": {
        "colab": {
          "base_uri": "https://localhost:8080/"
        },
        "id": "nYgq6Y2nL0Z2",
        "outputId": "8a01ae62-4705-46dd-a874-9ef6acb3e314"
      },
      "source": [
        "train_y.shape"
      ],
      "execution_count": null,
      "outputs": [
        {
          "output_type": "execute_result",
          "data": {
            "text/plain": [
              "(33844,)"
            ]
          },
          "metadata": {},
          "execution_count": 24
        }
      ]
    },
    {
      "cell_type": "markdown",
      "metadata": {
        "id": "bcPNmicxNL17"
      },
      "source": [
        "### Classification\n",
        "#### Random Forest\n"
      ]
    },
    {
      "cell_type": "code",
      "metadata": {
        "id": "c5fgXnONOpw4"
      },
      "source": [
        "# random forest of 500 trees\n",
        "rf = RandomForestClassifier(\n",
        "    n_estimators=500, # number of trees you want to build\n",
        "    bootstrap=True,\n",
        "    random_state=42\n",
        ")\n",
        "rf.fit(train_x, train_y.values.ravel())\n",
        "rf_preds = rf.predict(valid_x)"
      ],
      "execution_count": null,
      "outputs": []
    },
    {
      "cell_type": "code",
      "metadata": {
        "colab": {
          "base_uri": "https://localhost:8080/"
        },
        "id": "e9r7X-q0OsG9",
        "outputId": "3dd69d56-7dab-4dd5-996f-64c73beef83a"
      },
      "source": [
        "rf_preds"
      ],
      "execution_count": null,
      "outputs": [
        {
          "output_type": "execute_result",
          "data": {
            "text/plain": [
              "array([0, 0, 0, ..., 0, 0, 1])"
            ]
          },
          "metadata": {},
          "execution_count": 26
        }
      ]
    },
    {
      "cell_type": "code",
      "metadata": {
        "colab": {
          "base_uri": "https://localhost:8080/"
        },
        "id": "cpLHTL2bOcVx",
        "outputId": "fba8ee5a-fe2e-47d4-9d4c-f141fb949775"
      },
      "source": [
        "print(f'Random Forest Accuracy: {accuracy_score(valid_y, rf_preds)}')"
      ],
      "execution_count": null,
      "outputs": [
        {
          "output_type": "stream",
          "name": "stdout",
          "text": [
            "Random Forest Accuracy: 0.8422172320056731\n"
          ]
        }
      ]
    },
    {
      "cell_type": "code",
      "metadata": {
        "id": "6lRy1mc_OupV"
      },
      "source": [
        "# possible TODO: find best \"hyperparmaeters\" to achieve highest accuracy on the test data, good explorations ideas would be n_estimators, max_depth\n",
        "# use a lop to explore the different hyperparmeters \n",
        "# \n",
        "\n",
        "# best params from prev search\n",
        "rf_params = {\n",
        "    'n_estimators': 100,\n",
        "    'min_samples_split': 2,\n",
        "    'min_samples_leaf': 1,\n",
        "    'max_features':3,\n",
        "    'max_depth': 20,\n",
        "    'bootstrap': True,\n",
        "    'n_jobs': -1,\n",
        "    'random_state': 42,\n",
        "}\n",
        "\n",
        "rf = RandomForestClassifier(**rf_params)\n",
        "rf.fit(train_x, train_y.values.ravel())\n",
        "rf_preds = rf.predict(valid_x)"
      ],
      "execution_count": null,
      "outputs": []
    },
    {
      "cell_type": "code",
      "metadata": {
        "colab": {
          "base_uri": "https://localhost:8080/"
        },
        "id": "s4wt0DrxOw62",
        "outputId": "948b990c-abd8-4ee7-bd53-6a74485101b0"
      },
      "source": [
        "print(f'Random Forest Accuracy: {accuracy_score(valid_y, rf_preds)}')"
      ],
      "execution_count": null,
      "outputs": [
        {
          "output_type": "stream",
          "name": "stdout",
          "text": [
            "Random Forest Accuracy: 0.840208013237206\n"
          ]
        }
      ]
    },
    {
      "cell_type": "markdown",
      "source": [
        "### Hyperparameter Tuning"
      ],
      "metadata": {
        "id": "H9ZxopSEJms8"
      }
    },
    {
      "cell_type": "code",
      "source": [
        "{\"num_est\": [50,100]}"
      ],
      "metadata": {
        "id": "RxnB2iDj57d3",
        "colab": {
          "base_uri": "https://localhost:8080/"
        },
        "outputId": "a98cfa94-2ed0-476f-86e7-099f12973ea3"
      },
      "execution_count": null,
      "outputs": [
        {
          "output_type": "execute_result",
          "data": {
            "text/plain": [
              "{'num_est': [50, 100]}"
            ]
          },
          "metadata": {},
          "execution_count": 30
        }
      ]
    },
    {
      "cell_type": "code",
      "source": [
        "# We vary the depth range, and assess the effect on the model accuracies.\n",
        "# TODO: redo with all sets of parameters and plot, we will have 5 (num_estim) x 5 (max_depths) = 25 entries\n",
        "num_estimators = [50, 100, 200, 500 ]\n",
        "depths = [2, 5, 10, 20, 50]\n",
        "train_errors, valid_errors = [], []\n",
        "\n",
        "# create dataframe sketch\n",
        "dat = {}\n",
        "dat[\"num_estimators\"] =[]\n",
        "dat[\"depth\"] =[]\n",
        "dat[\"train_error\"] =[]\n",
        "dat[\"valid_error\"] =[]\n",
        "\n",
        "for depth in depths:\n",
        "  for estimator in num_estimators:\n",
        "      rf = RandomForestClassifier(max_depth=depth, random_state=42, bootstrap = True, n_estimators=estimator)\n",
        "      rf.fit(train_x, train_y)\n",
        "      train_error = accuracy_score(rf.predict(train_x), train_y)\n",
        "      valid_error = accuracy_score(rf.predict(valid_x), valid_y)\n",
        "      print(f'Depth: [{depth,estimator}] || Train Accuracy: {train_error} || Validation Accuracy: {valid_error}')\n",
        "\n",
        "      dat[\"num_estimators\"].append(estimator)\n",
        "      dat[\"depth\"].append(depth)\n",
        "      dat[\"train_error\"].append(train_error)\n",
        "      dat[\"valid_error\"].append(valid_error)\n",
        "\n",
        "      train_errors.append(train_error)\n",
        "      valid_errors.append(valid_error)\n",
        "\n",
        "error_dataframe = pd.DataFrame(dat)"
      ],
      "metadata": {
        "colab": {
          "base_uri": "https://localhost:8080/"
        },
        "id": "zfonlJARJtos",
        "outputId": "6a82de66-b8ff-4e76-eaae-10117c214b05"
      },
      "execution_count": null,
      "outputs": [
        {
          "output_type": "stream",
          "name": "stdout",
          "text": [
            "Depth: [(2, 50)] || Train Accuracy: 0.8616298309892447 || Validation Accuracy: 0.8591183075286609\n",
            "Depth: [(2, 100)] || Train Accuracy: 0.8616298309892447 || Validation Accuracy: 0.8591183075286609\n",
            "Depth: [(2, 200)] || Train Accuracy: 0.8616298309892447 || Validation Accuracy: 0.8591183075286609\n",
            "Depth: [(2, 500)] || Train Accuracy: 0.8616298309892447 || Validation Accuracy: 0.8591183075286609\n",
            "Depth: [(5, 50)] || Train Accuracy: 0.8619548516723792 || Validation Accuracy: 0.8594728755466257\n",
            "Depth: [(5, 100)] || Train Accuracy: 0.8616593783240751 || Validation Accuracy: 0.8592364968679825\n",
            "Depth: [(5, 200)] || Train Accuracy: 0.8616298309892447 || Validation Accuracy: 0.8591183075286609\n",
            "Depth: [(5, 500)] || Train Accuracy: 0.8619548516723792 || Validation Accuracy: 0.8594728755466257\n",
            "Depth: [(10, 50)] || Train Accuracy: 0.8910294291454911 || Validation Accuracy: 0.8625457983689871\n",
            "Depth: [(10, 100)] || Train Accuracy: 0.8908816924713391 || Validation Accuracy: 0.8621912303510223\n",
            "Depth: [(10, 200)] || Train Accuracy: 0.8899657250915968 || Validation Accuracy: 0.8625457983689871\n",
            "Depth: [(10, 500)] || Train Accuracy: 0.8900248197612576 || Validation Accuracy: 0.8623094196903439\n",
            "Depth: [(20, 50)] || Train Accuracy: 0.9609384233542134 || Validation Accuracy: 0.8405625812551708\n",
            "Depth: [(20, 100)] || Train Accuracy: 0.9610270653587046 || Validation Accuracy: 0.840208013237206\n",
            "Depth: [(20, 200)] || Train Accuracy: 0.9611157073631958 || Validation Accuracy: 0.8411535279517788\n",
            "Depth: [(20, 500)] || Train Accuracy: 0.9611748020328567 || Validation Accuracy: 0.8426899893629595\n",
            "Depth: [(50, 50)] || Train Accuracy: 0.9612043493676871 || Validation Accuracy: 0.836425954378915\n",
            "Depth: [(50, 100)] || Train Accuracy: 0.9612043493676871 || Validation Accuracy: 0.8380806051294173\n",
            "Depth: [(50, 200)] || Train Accuracy: 0.9612043493676871 || Validation Accuracy: 0.8406807705944924\n",
            "Depth: [(50, 500)] || Train Accuracy: 0.9612043493676871 || Validation Accuracy: 0.8422172320056731\n"
          ]
        }
      ]
    },
    {
      "cell_type": "code",
      "source": [
        "error_dataframe"
      ],
      "metadata": {
        "colab": {
          "base_uri": "https://localhost:8080/",
          "height": 677
        },
        "id": "H8PeKMz8iQOM",
        "outputId": "04330fa5-6974-4d4a-b4a3-0df0ae848ebe"
      },
      "execution_count": null,
      "outputs": [
        {
          "output_type": "execute_result",
          "data": {
            "text/html": [
              "<div>\n",
              "<style scoped>\n",
              "    .dataframe tbody tr th:only-of-type {\n",
              "        vertical-align: middle;\n",
              "    }\n",
              "\n",
              "    .dataframe tbody tr th {\n",
              "        vertical-align: top;\n",
              "    }\n",
              "\n",
              "    .dataframe thead th {\n",
              "        text-align: right;\n",
              "    }\n",
              "</style>\n",
              "<table border=\"1\" class=\"dataframe\">\n",
              "  <thead>\n",
              "    <tr style=\"text-align: right;\">\n",
              "      <th></th>\n",
              "      <th>num_estimators</th>\n",
              "      <th>depth</th>\n",
              "      <th>train_error</th>\n",
              "      <th>valid_error</th>\n",
              "    </tr>\n",
              "  </thead>\n",
              "  <tbody>\n",
              "    <tr>\n",
              "      <th>0</th>\n",
              "      <td>50</td>\n",
              "      <td>2</td>\n",
              "      <td>0.861630</td>\n",
              "      <td>0.859118</td>\n",
              "    </tr>\n",
              "    <tr>\n",
              "      <th>1</th>\n",
              "      <td>100</td>\n",
              "      <td>2</td>\n",
              "      <td>0.861630</td>\n",
              "      <td>0.859118</td>\n",
              "    </tr>\n",
              "    <tr>\n",
              "      <th>2</th>\n",
              "      <td>200</td>\n",
              "      <td>2</td>\n",
              "      <td>0.861630</td>\n",
              "      <td>0.859118</td>\n",
              "    </tr>\n",
              "    <tr>\n",
              "      <th>3</th>\n",
              "      <td>500</td>\n",
              "      <td>2</td>\n",
              "      <td>0.861630</td>\n",
              "      <td>0.859118</td>\n",
              "    </tr>\n",
              "    <tr>\n",
              "      <th>4</th>\n",
              "      <td>50</td>\n",
              "      <td>5</td>\n",
              "      <td>0.861955</td>\n",
              "      <td>0.859473</td>\n",
              "    </tr>\n",
              "    <tr>\n",
              "      <th>5</th>\n",
              "      <td>100</td>\n",
              "      <td>5</td>\n",
              "      <td>0.861659</td>\n",
              "      <td>0.859236</td>\n",
              "    </tr>\n",
              "    <tr>\n",
              "      <th>6</th>\n",
              "      <td>200</td>\n",
              "      <td>5</td>\n",
              "      <td>0.861630</td>\n",
              "      <td>0.859118</td>\n",
              "    </tr>\n",
              "    <tr>\n",
              "      <th>7</th>\n",
              "      <td>500</td>\n",
              "      <td>5</td>\n",
              "      <td>0.861955</td>\n",
              "      <td>0.859473</td>\n",
              "    </tr>\n",
              "    <tr>\n",
              "      <th>8</th>\n",
              "      <td>50</td>\n",
              "      <td>10</td>\n",
              "      <td>0.891029</td>\n",
              "      <td>0.862546</td>\n",
              "    </tr>\n",
              "    <tr>\n",
              "      <th>9</th>\n",
              "      <td>100</td>\n",
              "      <td>10</td>\n",
              "      <td>0.890882</td>\n",
              "      <td>0.862191</td>\n",
              "    </tr>\n",
              "    <tr>\n",
              "      <th>10</th>\n",
              "      <td>200</td>\n",
              "      <td>10</td>\n",
              "      <td>0.889966</td>\n",
              "      <td>0.862546</td>\n",
              "    </tr>\n",
              "    <tr>\n",
              "      <th>11</th>\n",
              "      <td>500</td>\n",
              "      <td>10</td>\n",
              "      <td>0.890025</td>\n",
              "      <td>0.862309</td>\n",
              "    </tr>\n",
              "    <tr>\n",
              "      <th>12</th>\n",
              "      <td>50</td>\n",
              "      <td>20</td>\n",
              "      <td>0.960938</td>\n",
              "      <td>0.840563</td>\n",
              "    </tr>\n",
              "    <tr>\n",
              "      <th>13</th>\n",
              "      <td>100</td>\n",
              "      <td>20</td>\n",
              "      <td>0.961027</td>\n",
              "      <td>0.840208</td>\n",
              "    </tr>\n",
              "    <tr>\n",
              "      <th>14</th>\n",
              "      <td>200</td>\n",
              "      <td>20</td>\n",
              "      <td>0.961116</td>\n",
              "      <td>0.841154</td>\n",
              "    </tr>\n",
              "    <tr>\n",
              "      <th>15</th>\n",
              "      <td>500</td>\n",
              "      <td>20</td>\n",
              "      <td>0.961175</td>\n",
              "      <td>0.842690</td>\n",
              "    </tr>\n",
              "    <tr>\n",
              "      <th>16</th>\n",
              "      <td>50</td>\n",
              "      <td>50</td>\n",
              "      <td>0.961204</td>\n",
              "      <td>0.836426</td>\n",
              "    </tr>\n",
              "    <tr>\n",
              "      <th>17</th>\n",
              "      <td>100</td>\n",
              "      <td>50</td>\n",
              "      <td>0.961204</td>\n",
              "      <td>0.838081</td>\n",
              "    </tr>\n",
              "    <tr>\n",
              "      <th>18</th>\n",
              "      <td>200</td>\n",
              "      <td>50</td>\n",
              "      <td>0.961204</td>\n",
              "      <td>0.840681</td>\n",
              "    </tr>\n",
              "    <tr>\n",
              "      <th>19</th>\n",
              "      <td>500</td>\n",
              "      <td>50</td>\n",
              "      <td>0.961204</td>\n",
              "      <td>0.842217</td>\n",
              "    </tr>\n",
              "  </tbody>\n",
              "</table>\n",
              "</div>"
            ],
            "text/plain": [
              "    num_estimators  depth  train_error  valid_error\n",
              "0               50      2     0.861630     0.859118\n",
              "1              100      2     0.861630     0.859118\n",
              "2              200      2     0.861630     0.859118\n",
              "3              500      2     0.861630     0.859118\n",
              "4               50      5     0.861955     0.859473\n",
              "5              100      5     0.861659     0.859236\n",
              "6              200      5     0.861630     0.859118\n",
              "7              500      5     0.861955     0.859473\n",
              "8               50     10     0.891029     0.862546\n",
              "9              100     10     0.890882     0.862191\n",
              "10             200     10     0.889966     0.862546\n",
              "11             500     10     0.890025     0.862309\n",
              "12              50     20     0.960938     0.840563\n",
              "13             100     20     0.961027     0.840208\n",
              "14             200     20     0.961116     0.841154\n",
              "15             500     20     0.961175     0.842690\n",
              "16              50     50     0.961204     0.836426\n",
              "17             100     50     0.961204     0.838081\n",
              "18             200     50     0.961204     0.840681\n",
              "19             500     50     0.961204     0.842217"
            ]
          },
          "metadata": {},
          "execution_count": 68
        }
      ]
    },
    {
      "cell_type": "code",
      "source": [
        "error_dataframe.round(2)"
      ],
      "metadata": {
        "colab": {
          "base_uri": "https://localhost:8080/",
          "height": 677
        },
        "id": "pusFuFgNKaf2",
        "outputId": "a1cc4088-e44f-47df-a2fc-197df9ff44eb"
      },
      "execution_count": null,
      "outputs": [
        {
          "output_type": "execute_result",
          "data": {
            "text/html": [
              "<div>\n",
              "<style scoped>\n",
              "    .dataframe tbody tr th:only-of-type {\n",
              "        vertical-align: middle;\n",
              "    }\n",
              "\n",
              "    .dataframe tbody tr th {\n",
              "        vertical-align: top;\n",
              "    }\n",
              "\n",
              "    .dataframe thead th {\n",
              "        text-align: right;\n",
              "    }\n",
              "</style>\n",
              "<table border=\"1\" class=\"dataframe\">\n",
              "  <thead>\n",
              "    <tr style=\"text-align: right;\">\n",
              "      <th></th>\n",
              "      <th>num_estimators</th>\n",
              "      <th>depth</th>\n",
              "      <th>train_error</th>\n",
              "      <th>valid_error</th>\n",
              "    </tr>\n",
              "  </thead>\n",
              "  <tbody>\n",
              "    <tr>\n",
              "      <th>0</th>\n",
              "      <td>50</td>\n",
              "      <td>2</td>\n",
              "      <td>0.86</td>\n",
              "      <td>0.86</td>\n",
              "    </tr>\n",
              "    <tr>\n",
              "      <th>1</th>\n",
              "      <td>100</td>\n",
              "      <td>2</td>\n",
              "      <td>0.86</td>\n",
              "      <td>0.86</td>\n",
              "    </tr>\n",
              "    <tr>\n",
              "      <th>2</th>\n",
              "      <td>200</td>\n",
              "      <td>2</td>\n",
              "      <td>0.86</td>\n",
              "      <td>0.86</td>\n",
              "    </tr>\n",
              "    <tr>\n",
              "      <th>3</th>\n",
              "      <td>500</td>\n",
              "      <td>2</td>\n",
              "      <td>0.86</td>\n",
              "      <td>0.86</td>\n",
              "    </tr>\n",
              "    <tr>\n",
              "      <th>4</th>\n",
              "      <td>50</td>\n",
              "      <td>5</td>\n",
              "      <td>0.86</td>\n",
              "      <td>0.86</td>\n",
              "    </tr>\n",
              "    <tr>\n",
              "      <th>5</th>\n",
              "      <td>100</td>\n",
              "      <td>5</td>\n",
              "      <td>0.86</td>\n",
              "      <td>0.86</td>\n",
              "    </tr>\n",
              "    <tr>\n",
              "      <th>6</th>\n",
              "      <td>200</td>\n",
              "      <td>5</td>\n",
              "      <td>0.86</td>\n",
              "      <td>0.86</td>\n",
              "    </tr>\n",
              "    <tr>\n",
              "      <th>7</th>\n",
              "      <td>500</td>\n",
              "      <td>5</td>\n",
              "      <td>0.86</td>\n",
              "      <td>0.86</td>\n",
              "    </tr>\n",
              "    <tr>\n",
              "      <th>8</th>\n",
              "      <td>50</td>\n",
              "      <td>10</td>\n",
              "      <td>0.89</td>\n",
              "      <td>0.86</td>\n",
              "    </tr>\n",
              "    <tr>\n",
              "      <th>9</th>\n",
              "      <td>100</td>\n",
              "      <td>10</td>\n",
              "      <td>0.89</td>\n",
              "      <td>0.86</td>\n",
              "    </tr>\n",
              "    <tr>\n",
              "      <th>10</th>\n",
              "      <td>200</td>\n",
              "      <td>10</td>\n",
              "      <td>0.89</td>\n",
              "      <td>0.86</td>\n",
              "    </tr>\n",
              "    <tr>\n",
              "      <th>11</th>\n",
              "      <td>500</td>\n",
              "      <td>10</td>\n",
              "      <td>0.89</td>\n",
              "      <td>0.86</td>\n",
              "    </tr>\n",
              "    <tr>\n",
              "      <th>12</th>\n",
              "      <td>50</td>\n",
              "      <td>20</td>\n",
              "      <td>0.96</td>\n",
              "      <td>0.84</td>\n",
              "    </tr>\n",
              "    <tr>\n",
              "      <th>13</th>\n",
              "      <td>100</td>\n",
              "      <td>20</td>\n",
              "      <td>0.96</td>\n",
              "      <td>0.84</td>\n",
              "    </tr>\n",
              "    <tr>\n",
              "      <th>14</th>\n",
              "      <td>200</td>\n",
              "      <td>20</td>\n",
              "      <td>0.96</td>\n",
              "      <td>0.84</td>\n",
              "    </tr>\n",
              "    <tr>\n",
              "      <th>15</th>\n",
              "      <td>500</td>\n",
              "      <td>20</td>\n",
              "      <td>0.96</td>\n",
              "      <td>0.84</td>\n",
              "    </tr>\n",
              "    <tr>\n",
              "      <th>16</th>\n",
              "      <td>50</td>\n",
              "      <td>50</td>\n",
              "      <td>0.96</td>\n",
              "      <td>0.84</td>\n",
              "    </tr>\n",
              "    <tr>\n",
              "      <th>17</th>\n",
              "      <td>100</td>\n",
              "      <td>50</td>\n",
              "      <td>0.96</td>\n",
              "      <td>0.84</td>\n",
              "    </tr>\n",
              "    <tr>\n",
              "      <th>18</th>\n",
              "      <td>200</td>\n",
              "      <td>50</td>\n",
              "      <td>0.96</td>\n",
              "      <td>0.84</td>\n",
              "    </tr>\n",
              "    <tr>\n",
              "      <th>19</th>\n",
              "      <td>500</td>\n",
              "      <td>50</td>\n",
              "      <td>0.96</td>\n",
              "      <td>0.84</td>\n",
              "    </tr>\n",
              "  </tbody>\n",
              "</table>\n",
              "</div>"
            ],
            "text/plain": [
              "    num_estimators  depth  train_error  valid_error\n",
              "0               50      2         0.86         0.86\n",
              "1              100      2         0.86         0.86\n",
              "2              200      2         0.86         0.86\n",
              "3              500      2         0.86         0.86\n",
              "4               50      5         0.86         0.86\n",
              "5              100      5         0.86         0.86\n",
              "6              200      5         0.86         0.86\n",
              "7              500      5         0.86         0.86\n",
              "8               50     10         0.89         0.86\n",
              "9              100     10         0.89         0.86\n",
              "10             200     10         0.89         0.86\n",
              "11             500     10         0.89         0.86\n",
              "12              50     20         0.96         0.84\n",
              "13             100     20         0.96         0.84\n",
              "14             200     20         0.96         0.84\n",
              "15             500     20         0.96         0.84\n",
              "16              50     50         0.96         0.84\n",
              "17             100     50         0.96         0.84\n",
              "18             200     50         0.96         0.84\n",
              "19             500     50         0.96         0.84"
            ]
          },
          "metadata": {},
          "execution_count": 69
        }
      ]
    },
    {
      "cell_type": "code",
      "source": [
        "error_dataframe['train_error']= error_dataframe['train_error'] * 100\n",
        "error_dataframe['valid_error']= error_dataframe['valid_error'] * 100"
      ],
      "metadata": {
        "id": "nJEqad8gK7kh"
      },
      "execution_count": null,
      "outputs": []
    },
    {
      "cell_type": "code",
      "source": [
        "error_dataframe.round()"
      ],
      "metadata": {
        "colab": {
          "base_uri": "https://localhost:8080/",
          "height": 677
        },
        "id": "k4sGgFBQLL-H",
        "outputId": "91ed2312-a47d-4f83-bf2d-236cfc56adcc"
      },
      "execution_count": null,
      "outputs": [
        {
          "output_type": "execute_result",
          "data": {
            "text/html": [
              "<div>\n",
              "<style scoped>\n",
              "    .dataframe tbody tr th:only-of-type {\n",
              "        vertical-align: middle;\n",
              "    }\n",
              "\n",
              "    .dataframe tbody tr th {\n",
              "        vertical-align: top;\n",
              "    }\n",
              "\n",
              "    .dataframe thead th {\n",
              "        text-align: right;\n",
              "    }\n",
              "</style>\n",
              "<table border=\"1\" class=\"dataframe\">\n",
              "  <thead>\n",
              "    <tr style=\"text-align: right;\">\n",
              "      <th></th>\n",
              "      <th>num_estimators</th>\n",
              "      <th>depth</th>\n",
              "      <th>train_error</th>\n",
              "      <th>valid_error</th>\n",
              "    </tr>\n",
              "  </thead>\n",
              "  <tbody>\n",
              "    <tr>\n",
              "      <th>0</th>\n",
              "      <td>50</td>\n",
              "      <td>2</td>\n",
              "      <td>86.0</td>\n",
              "      <td>86.0</td>\n",
              "    </tr>\n",
              "    <tr>\n",
              "      <th>1</th>\n",
              "      <td>100</td>\n",
              "      <td>2</td>\n",
              "      <td>86.0</td>\n",
              "      <td>86.0</td>\n",
              "    </tr>\n",
              "    <tr>\n",
              "      <th>2</th>\n",
              "      <td>200</td>\n",
              "      <td>2</td>\n",
              "      <td>86.0</td>\n",
              "      <td>86.0</td>\n",
              "    </tr>\n",
              "    <tr>\n",
              "      <th>3</th>\n",
              "      <td>500</td>\n",
              "      <td>2</td>\n",
              "      <td>86.0</td>\n",
              "      <td>86.0</td>\n",
              "    </tr>\n",
              "    <tr>\n",
              "      <th>4</th>\n",
              "      <td>50</td>\n",
              "      <td>5</td>\n",
              "      <td>86.0</td>\n",
              "      <td>86.0</td>\n",
              "    </tr>\n",
              "    <tr>\n",
              "      <th>5</th>\n",
              "      <td>100</td>\n",
              "      <td>5</td>\n",
              "      <td>86.0</td>\n",
              "      <td>86.0</td>\n",
              "    </tr>\n",
              "    <tr>\n",
              "      <th>6</th>\n",
              "      <td>200</td>\n",
              "      <td>5</td>\n",
              "      <td>86.0</td>\n",
              "      <td>86.0</td>\n",
              "    </tr>\n",
              "    <tr>\n",
              "      <th>7</th>\n",
              "      <td>500</td>\n",
              "      <td>5</td>\n",
              "      <td>86.0</td>\n",
              "      <td>86.0</td>\n",
              "    </tr>\n",
              "    <tr>\n",
              "      <th>8</th>\n",
              "      <td>50</td>\n",
              "      <td>10</td>\n",
              "      <td>89.0</td>\n",
              "      <td>86.0</td>\n",
              "    </tr>\n",
              "    <tr>\n",
              "      <th>9</th>\n",
              "      <td>100</td>\n",
              "      <td>10</td>\n",
              "      <td>89.0</td>\n",
              "      <td>86.0</td>\n",
              "    </tr>\n",
              "    <tr>\n",
              "      <th>10</th>\n",
              "      <td>200</td>\n",
              "      <td>10</td>\n",
              "      <td>89.0</td>\n",
              "      <td>86.0</td>\n",
              "    </tr>\n",
              "    <tr>\n",
              "      <th>11</th>\n",
              "      <td>500</td>\n",
              "      <td>10</td>\n",
              "      <td>89.0</td>\n",
              "      <td>86.0</td>\n",
              "    </tr>\n",
              "    <tr>\n",
              "      <th>12</th>\n",
              "      <td>50</td>\n",
              "      <td>20</td>\n",
              "      <td>96.0</td>\n",
              "      <td>84.0</td>\n",
              "    </tr>\n",
              "    <tr>\n",
              "      <th>13</th>\n",
              "      <td>100</td>\n",
              "      <td>20</td>\n",
              "      <td>96.0</td>\n",
              "      <td>84.0</td>\n",
              "    </tr>\n",
              "    <tr>\n",
              "      <th>14</th>\n",
              "      <td>200</td>\n",
              "      <td>20</td>\n",
              "      <td>96.0</td>\n",
              "      <td>84.0</td>\n",
              "    </tr>\n",
              "    <tr>\n",
              "      <th>15</th>\n",
              "      <td>500</td>\n",
              "      <td>20</td>\n",
              "      <td>96.0</td>\n",
              "      <td>84.0</td>\n",
              "    </tr>\n",
              "    <tr>\n",
              "      <th>16</th>\n",
              "      <td>50</td>\n",
              "      <td>50</td>\n",
              "      <td>96.0</td>\n",
              "      <td>84.0</td>\n",
              "    </tr>\n",
              "    <tr>\n",
              "      <th>17</th>\n",
              "      <td>100</td>\n",
              "      <td>50</td>\n",
              "      <td>96.0</td>\n",
              "      <td>84.0</td>\n",
              "    </tr>\n",
              "    <tr>\n",
              "      <th>18</th>\n",
              "      <td>200</td>\n",
              "      <td>50</td>\n",
              "      <td>96.0</td>\n",
              "      <td>84.0</td>\n",
              "    </tr>\n",
              "    <tr>\n",
              "      <th>19</th>\n",
              "      <td>500</td>\n",
              "      <td>50</td>\n",
              "      <td>96.0</td>\n",
              "      <td>84.0</td>\n",
              "    </tr>\n",
              "  </tbody>\n",
              "</table>\n",
              "</div>"
            ],
            "text/plain": [
              "    num_estimators  depth  train_error  valid_error\n",
              "0               50      2         86.0         86.0\n",
              "1              100      2         86.0         86.0\n",
              "2              200      2         86.0         86.0\n",
              "3              500      2         86.0         86.0\n",
              "4               50      5         86.0         86.0\n",
              "5              100      5         86.0         86.0\n",
              "6              200      5         86.0         86.0\n",
              "7              500      5         86.0         86.0\n",
              "8               50     10         89.0         86.0\n",
              "9              100     10         89.0         86.0\n",
              "10             200     10         89.0         86.0\n",
              "11             500     10         89.0         86.0\n",
              "12              50     20         96.0         84.0\n",
              "13             100     20         96.0         84.0\n",
              "14             200     20         96.0         84.0\n",
              "15             500     20         96.0         84.0\n",
              "16              50     50         96.0         84.0\n",
              "17             100     50         96.0         84.0\n",
              "18             200     50         96.0         84.0\n",
              "19             500     50         96.0         84.0"
            ]
          },
          "metadata": {},
          "execution_count": 73
        }
      ]
    },
    {
      "cell_type": "code",
      "source": [
        "sns.lineplot(data =error_dataframe ).set(xlabel =\"Depth\", ylabel =\"Estimators\")"
      ],
      "metadata": {
        "colab": {
          "base_uri": "https://localhost:8080/",
          "height": 296
        },
        "id": "Wse2wSzOFCEE",
        "outputId": "060e5a49-fca7-48fe-939f-55b2f0191e01"
      },
      "execution_count": null,
      "outputs": [
        {
          "output_type": "execute_result",
          "data": {
            "text/plain": [
              "[Text(0, 0.5, 'Estimators'), Text(0.5, 0, 'Depth')]"
            ]
          },
          "metadata": {},
          "execution_count": 75
        },
        {
          "output_type": "display_data",
          "data": {
            "image/png": "[encoded data removed]",
            "text/plain": [
              "<Figure size 432x288 with 1 Axes>"
            ]
          },
          "metadata": {
            "needs_background": "light"
          }
        }
      ]
    },
    {
      "cell_type": "code",
      "source": [
        ""
      ],
      "metadata": {
        "id": "FNVzCUG8HSHF"
      },
      "execution_count": null,
      "outputs": []
    },
    {
      "cell_type": "code",
      "source": [
        "# use error_dataframe for plotting\n",
        "go.Figure(data=[\n",
        "  go.Scatter(x=list(['depths','num_estimators']), y=train_errors, line_shape='spline', name='train accuracy'),\n",
        "  go.Scatter(x=list(['depths','num_estimators']), y=valid_errors, line_shape='spline', name='valid accuracy'),\n",
        "])"
      ],
      "metadata": {
        "colab": {
          "base_uri": "https://localhost:8080/",
          "height": 542
        },
        "id": "X_UQwliCLAn6",
        "outputId": "76f41020-324e-4f4f-f872-f1a98c2c5ddc"
      },
      "execution_count": null,
      "outputs": [
        {
          "output_type": "display_data",
          "data": {
            "text/html": [
              "<html>\n",
              "<head><meta charset=\"utf-8\" /></head>\n",
              "<body>\n",
              "    <div>\n",
              "            <script src=\"https://cdnjs.cloudflare.com/ajax/libs/mathjax/2.7.5/MathJax.js?config=TeX-AMS-MML_SVG\"></script><script type=\"text/javascript\">if (window.MathJax) {MathJax.Hub.Config({SVG: {font: \"STIX-Web\"}});}</script>\n",
              "                <script type=\"text/javascript\">window.PlotlyConfig = {MathJaxConfig: 'local'};</script>\n",
              "        <script src=\"https://cdn.plot.ly/plotly-latest.min.js\"></script>    \n",
              "            <div id=\"cf10094e-e18a-4645-9df8-f4ec6963e9cd\" class=\"plotly-graph-div\" style=\"height:525px; width:100%;\"></div>\n",
              "            <script type=\"text/javascript\">\n",
              "                \n",
              "                    window.PLOTLYENV=window.PLOTLYENV || {};\n",
              "                    \n",
              "                if (document.getElementById(\"cf10094e-e18a-4645-9df8-f4ec6963e9cd\")) {\n",
              "                    Plotly.newPlot(\n",
              "                        'cf10094e-e18a-4645-9df8-f4ec6963e9cd',\n",
              "                        [{\"line\": {\"shape\": \"spline\"}, \"name\": \"train accuracy\", \"type\": \"scatter\", \"x\": [\"depths\", \"num_estimators\"], \"y\": [0.8616298309892447, 0.8616298309892447, 0.8616298309892447, 0.8616298309892447, 0.8619548516723792, 0.8616593783240751, 0.8616298309892447, 0.8619548516723792, 0.8910294291454911, 0.8908816924713391, 0.8899657250915968, 0.8900248197612576, 0.9609384233542134, 0.9610270653587046, 0.9611157073631958, 0.9611748020328567, 0.9612043493676871, 0.9612043493676871, 0.9612043493676871, 0.9612043493676871]}, {\"line\": {\"shape\": \"spline\"}, \"name\": \"valid accuracy\", \"type\": \"scatter\", \"x\": [\"depths\", \"num_estimators\"], \"y\": [0.8591183075286609, 0.8591183075286609, 0.8591183075286609, 0.8591183075286609, 0.8594728755466257, 0.8592364968679825, 0.8591183075286609, 0.8594728755466257, 0.8625457983689871, 0.8621912303510223, 0.8625457983689871, 0.8623094196903439, 0.8405625812551708, 0.840208013237206, 0.8411535279517788, 0.8426899893629595, 0.836425954378915, 0.8380806051294173, 0.8406807705944924, 0.8422172320056731]}],\n",
              "                        {\"template\": {\"data\": {\"bar\": [{\"error_x\": {\"color\": \"#2a3f5f\"}, \"error_y\": {\"color\": \"#2a3f5f\"}, \"marker\": {\"line\": {\"color\": \"#E5ECF6\", \"width\": 0.5}}, \"type\": \"bar\"}], \"barpolar\": [{\"marker\": {\"line\": {\"color\": \"#E5ECF6\", \"width\": 0.5}}, \"type\": \"barpolar\"}], \"carpet\": [{\"aaxis\": {\"endlinecolor\": \"#2a3f5f\", \"gridcolor\": \"white\", \"linecolor\": \"white\", \"minorgridcolor\": \"white\", \"startlinecolor\": \"#2a3f5f\"}, \"baxis\": {\"endlinecolor\": \"#2a3f5f\", \"gridcolor\": \"white\", \"linecolor\": \"white\", \"minorgridcolor\": \"white\", \"startlinecolor\": \"#2a3f5f\"}, \"type\": \"carpet\"}], \"choropleth\": [{\"colorbar\": {\"outlinewidth\": 0, \"ticks\": \"\"}, \"type\": \"choropleth\"}], \"contour\": [{\"colorbar\": {\"outlinewidth\": 0, \"ticks\": \"\"}, \"colorscale\": [[0.0, \"#0d0887\"], [0.1111111111111111, \"#46039f\"], [0.2222222222222222, \"#7201a8\"], [0.3333333333333333, \"#9c179e\"], [0.4444444444444444, \"#bd3786\"], [0.5555555555555556, \"#d8576b\"], [0.6666666666666666, \"#ed7953\"], [0.7777777777777778, \"#fb9f3a\"], [0.8888888888888888, \"#fdca26\"], [1.0, \"#f0f921\"]], \"type\": \"contour\"}], \"contourcarpet\": [{\"colorbar\": {\"outlinewidth\": 0, \"ticks\": \"\"}, \"type\": \"contourcarpet\"}], \"heatmap\": [{\"colorbar\": {\"outlinewidth\": 0, \"ticks\": \"\"}, \"colorscale\": [[0.0, \"#0d0887\"], [0.1111111111111111, \"#46039f\"], [0.2222222222222222, \"#7201a8\"], [0.3333333333333333, \"#9c179e\"], [0.4444444444444444, \"#bd3786\"], [0.5555555555555556, \"#d8576b\"], [0.6666666666666666, \"#ed7953\"], [0.7777777777777778, \"#fb9f3a\"], [0.8888888888888888, \"#fdca26\"], [1.0, \"#f0f921\"]], \"type\": \"heatmap\"}], \"heatmapgl\": [{\"colorbar\": {\"outlinewidth\": 0, \"ticks\": \"\"}, \"colorscale\": [[0.0, \"#0d0887\"], [0.1111111111111111, \"#46039f\"], [0.2222222222222222, \"#7201a8\"], [0.3333333333333333, \"#9c179e\"], [0.4444444444444444, \"#bd3786\"], [0.5555555555555556, \"#d8576b\"], [0.6666666666666666, \"#ed7953\"], [0.7777777777777778, \"#fb9f3a\"], [0.8888888888888888, \"#fdca26\"], [1.0, \"#f0f921\"]], \"type\": \"heatmapgl\"}], \"histogram\": [{\"marker\": {\"colorbar\": {\"outlinewidth\": 0, \"ticks\": \"\"}}, \"type\": \"histogram\"}], \"histogram2d\": [{\"colorbar\": {\"outlinewidth\": 0, \"ticks\": \"\"}, \"colorscale\": [[0.0, \"#0d0887\"], [0.1111111111111111, \"#46039f\"], [0.2222222222222222, \"#7201a8\"], [0.3333333333333333, \"#9c179e\"], [0.4444444444444444, \"#bd3786\"], [0.5555555555555556, \"#d8576b\"], [0.6666666666666666, \"#ed7953\"], [0.7777777777777778, \"#fb9f3a\"], [0.8888888888888888, \"#fdca26\"], [1.0, \"#f0f921\"]], \"type\": \"histogram2d\"}], \"histogram2dcontour\": [{\"colorbar\": {\"outlinewidth\": 0, \"ticks\": \"\"}, \"colorscale\": [[0.0, \"#0d0887\"], [0.1111111111111111, \"#46039f\"], [0.2222222222222222, \"#7201a8\"], [0.3333333333333333, \"#9c179e\"], [0.4444444444444444, \"#bd3786\"], [0.5555555555555556, \"#d8576b\"], [0.6666666666666666, \"#ed7953\"], [0.7777777777777778, \"#fb9f3a\"], [0.8888888888888888, \"#fdca26\"], [1.0, \"#f0f921\"]], \"type\": \"histogram2dcontour\"}], \"mesh3d\": [{\"colorbar\": {\"outlinewidth\": 0, \"ticks\": \"\"}, \"type\": \"mesh3d\"}], \"parcoords\": [{\"line\": {\"colorbar\": {\"outlinewidth\": 0, \"ticks\": \"\"}}, \"type\": \"parcoords\"}], \"pie\": [{\"automargin\": true, \"type\": \"pie\"}], \"scatter\": [{\"marker\": {\"colorbar\": {\"outlinewidth\": 0, \"ticks\": \"\"}}, \"type\": \"scatter\"}], \"scatter3d\": [{\"line\": {\"colorbar\": {\"outlinewidth\": 0, \"ticks\": \"\"}}, \"marker\": {\"colorbar\": {\"outlinewidth\": 0, \"ticks\": \"\"}}, \"type\": \"scatter3d\"}], \"scattercarpet\": [{\"marker\": {\"colorbar\": {\"outlinewidth\": 0, \"ticks\": \"\"}}, \"type\": \"scattercarpet\"}], \"scattergeo\": [{\"marker\": {\"colorbar\": {\"outlinewidth\": 0, \"ticks\": \"\"}}, \"type\": \"scattergeo\"}], \"scattergl\": [{\"marker\": {\"colorbar\": {\"outlinewidth\": 0, \"ticks\": \"\"}}, \"type\": \"scattergl\"}], \"scattermapbox\": [{\"marker\": {\"colorbar\": {\"outlinewidth\": 0, \"ticks\": \"\"}}, \"type\": \"scattermapbox\"}], \"scatterpolar\": [{\"marker\": {\"colorbar\": {\"outlinewidth\": 0, \"ticks\": \"\"}}, \"type\": \"scatterpolar\"}], \"scatterpolargl\": [{\"marker\": {\"colorbar\": {\"outlinewidth\": 0, \"ticks\": \"\"}}, \"type\": \"scatterpolargl\"}], \"scatterternary\": [{\"marker\": {\"colorbar\": {\"outlinewidth\": 0, \"ticks\": \"\"}}, \"type\": \"scatterternary\"}], \"surface\": [{\"colorbar\": {\"outlinewidth\": 0, \"ticks\": \"\"}, \"colorscale\": [[0.0, \"#0d0887\"], [0.1111111111111111, \"#46039f\"], [0.2222222222222222, \"#7201a8\"], [0.3333333333333333, \"#9c179e\"], [0.4444444444444444, \"#bd3786\"], [0.5555555555555556, \"#d8576b\"], [0.6666666666666666, \"#ed7953\"], [0.7777777777777778, \"#fb9f3a\"], [0.8888888888888888, \"#fdca26\"], [1.0, \"#f0f921\"]], \"type\": \"surface\"}], \"table\": [{\"cells\": {\"fill\": {\"color\": \"#EBF0F8\"}, \"line\": {\"color\": \"white\"}}, \"header\": {\"fill\": {\"color\": \"#C8D4E3\"}, \"line\": {\"color\": \"white\"}}, \"type\": \"table\"}]}, \"layout\": {\"annotationdefaults\": {\"arrowcolor\": \"#2a3f5f\", \"arrowhead\": 0, \"arrowwidth\": 1}, \"coloraxis\": {\"colorbar\": {\"outlinewidth\": 0, \"ticks\": \"\"}}, \"colorscale\": {\"diverging\": [[0, \"#8e0152\"], [0.1, \"#c51b7d\"], [0.2, \"#de77ae\"], [0.3, \"#f1b6da\"], [0.4, \"#fde0ef\"], [0.5, \"#f7f7f7\"], [0.6, \"#e6f5d0\"], [0.7, \"#b8e186\"], [0.8, \"#7fbc41\"], [0.9, \"#4d9221\"], [1, \"#276419\"]], \"sequential\": [[0.0, \"#0d0887\"], [0.1111111111111111, \"#46039f\"], [0.2222222222222222, \"#7201a8\"], [0.3333333333333333, \"#9c179e\"], [0.4444444444444444, \"#bd3786\"], [0.5555555555555556, \"#d8576b\"], [0.6666666666666666, \"#ed7953\"], [0.7777777777777778, \"#fb9f3a\"], [0.8888888888888888, \"#fdca26\"], [1.0, \"#f0f921\"]], \"sequentialminus\": [[0.0, \"#0d0887\"], [0.1111111111111111, \"#46039f\"], [0.2222222222222222, \"#7201a8\"], [0.3333333333333333, \"#9c179e\"], [0.4444444444444444, \"#bd3786\"], [0.5555555555555556, \"#d8576b\"], [0.6666666666666666, \"#ed7953\"], [0.7777777777777778, \"#fb9f3a\"], [0.8888888888888888, \"#fdca26\"], [1.0, \"#f0f921\"]]}, \"colorway\": [\"#636efa\", \"#EF553B\", \"#00cc96\", \"#ab63fa\", \"#FFA15A\", \"#19d3f3\", \"#FF6692\", \"#B6E880\", \"#FF97FF\", \"#FECB52\"], \"font\": {\"color\": \"#2a3f5f\"}, \"geo\": {\"bgcolor\": \"white\", \"lakecolor\": \"white\", \"landcolor\": \"#E5ECF6\", \"showlakes\": true, \"showland\": true, \"subunitcolor\": \"white\"}, \"hoverlabel\": {\"align\": \"left\"}, \"hovermode\": \"closest\", \"mapbox\": {\"style\": \"light\"}, \"paper_bgcolor\": \"white\", \"plot_bgcolor\": \"#E5ECF6\", \"polar\": {\"angularaxis\": {\"gridcolor\": \"white\", \"linecolor\": \"white\", \"ticks\": \"\"}, \"bgcolor\": \"#E5ECF6\", \"radialaxis\": {\"gridcolor\": \"white\", \"linecolor\": \"white\", \"ticks\": \"\"}}, \"scene\": {\"xaxis\": {\"backgroundcolor\": \"#E5ECF6\", \"gridcolor\": \"white\", \"gridwidth\": 2, \"linecolor\": \"white\", \"showbackground\": true, \"ticks\": \"\", \"zerolinecolor\": \"white\"}, \"yaxis\": {\"backgroundcolor\": \"#E5ECF6\", \"gridcolor\": \"white\", \"gridwidth\": 2, \"linecolor\": \"white\", \"showbackground\": true, \"ticks\": \"\", \"zerolinecolor\": \"white\"}, \"zaxis\": {\"backgroundcolor\": \"#E5ECF6\", \"gridcolor\": \"white\", \"gridwidth\": 2, \"linecolor\": \"white\", \"showbackground\": true, \"ticks\": \"\", \"zerolinecolor\": \"white\"}}, \"shapedefaults\": {\"line\": {\"color\": \"#2a3f5f\"}}, \"ternary\": {\"aaxis\": {\"gridcolor\": \"white\", \"linecolor\": \"white\", \"ticks\": \"\"}, \"baxis\": {\"gridcolor\": \"white\", \"linecolor\": \"white\", \"ticks\": \"\"}, \"bgcolor\": \"#E5ECF6\", \"caxis\": {\"gridcolor\": \"white\", \"linecolor\": \"white\", \"ticks\": \"\"}}, \"title\": {\"x\": 0.05}, \"xaxis\": {\"automargin\": true, \"gridcolor\": \"white\", \"linecolor\": \"white\", \"ticks\": \"\", \"title\": {\"standoff\": 15}, \"zerolinecolor\": \"white\", \"zerolinewidth\": 2}, \"yaxis\": {\"automargin\": true, \"gridcolor\": \"white\", \"linecolor\": \"white\", \"ticks\": \"\", \"title\": {\"standoff\": 15}, \"zerolinecolor\": \"white\", \"zerolinewidth\": 2}}}},\n",
              "                        {\"responsive\": true}\n",
              "                    ).then(function(){\n",
              "                            \n",
              "var gd = document.getElementById('cf10094e-e18a-4645-9df8-f4ec6963e9cd');\n",
              "var x = new MutationObserver(function (mutations, observer) {{\n",
              "        var display = window.getComputedStyle(gd).display;\n",
              "        if (!display || display === 'none') {{\n",
              "            console.log([gd, 'removed!']);\n",
              "            Plotly.purge(gd);\n",
              "            observer.disconnect();\n",
              "        }}\n",
              "}});\n",
              "\n",
              "// Listen for the removal of the full notebook cells\n",
              "var notebookContainer = gd.closest('#notebook-container');\n",
              "if (notebookContainer) {{\n",
              "    x.observe(notebookContainer, {childList: true});\n",
              "}}\n",
              "\n",
              "// Listen for the clearing of the current output cell\n",
              "var outputEl = gd.closest('.output');\n",
              "if (outputEl) {{\n",
              "    x.observe(outputEl, {childList: true});\n",
              "}}\n",
              "\n",
              "                        })\n",
              "                };\n",
              "                \n",
              "            </script>\n",
              "        </div>\n",
              "</body>\n",
              "</html>"
            ]
          },
          "metadata": {}
        }
      ]
    },
    {
      "cell_type": "code",
      "source": [
        "\n",
        "go.Figure(data=[\n",
        "  go.Scatter(x=list(depths), y=train_errors, line_shape='spline', name='train accuracy'),\n",
        "  go.Scatter(x=list(depths), y=valid_errors, line_shape='spline', name='valid accuracy'),\n",
        "])"
      ],
      "metadata": {
        "colab": {
          "base_uri": "https://localhost:8080/",
          "height": 542
        },
        "id": "25PKitOA4KZf",
        "outputId": "4e7d89e9-8ff9-430a-d94a-be000ce7dd39"
      },
      "execution_count": null,
      "outputs": [
        {
          "output_type": "display_data",
          "data": {
            "text/html": [
              "<html>\n",
              "<head><meta charset=\"utf-8\" /></head>\n",
              "<body>\n",
              "    <div>\n",
              "            <script src=\"https://cdnjs.cloudflare.com/ajax/libs/mathjax/2.7.5/MathJax.js?config=TeX-AMS-MML_SVG\"></script><script type=\"text/javascript\">if (window.MathJax) {MathJax.Hub.Config({SVG: {font: \"STIX-Web\"}});}</script>\n",
              "                <script type=\"text/javascript\">window.PlotlyConfig = {MathJaxConfig: 'local'};</script>\n",
              "        <script src=\"https://cdn.plot.ly/plotly-latest.min.js\"></script>    \n",
              "            <div id=\"9d568d30-16d5-445f-b8ac-b668ec3aa049\" class=\"plotly-graph-div\" style=\"height:525px; width:100%;\"></div>\n",
              "            <script type=\"text/javascript\">\n",
              "                \n",
              "                    window.PLOTLYENV=window.PLOTLYENV || {};\n",
              "                    \n",
              "                if (document.getElementById(\"9d568d30-16d5-445f-b8ac-b668ec3aa049\")) {\n",
              "                    Plotly.newPlot(\n",
              "                        '9d568d30-16d5-445f-b8ac-b668ec3aa049',\n",
              "                        [{\"line\": {\"shape\": \"spline\"}, \"name\": \"train accuracy\", \"type\": \"scatter\", \"x\": [2, 5, 10, 20, 50], \"y\": [0.8616298309892447, 0.8616298309892447, 0.8616298309892447, 0.8616298309892447, 0.8619548516723792, 0.8616593783240751, 0.8616298309892447, 0.8619548516723792, 0.8910294291454911, 0.8908816924713391, 0.8899657250915968, 0.8900248197612576, 0.9609384233542134, 0.9610270653587046, 0.9611157073631958, 0.9611748020328567, 0.9612043493676871, 0.9612043493676871, 0.9612043493676871, 0.9612043493676871]}, {\"line\": {\"shape\": \"spline\"}, \"name\": \"valid accuracy\", \"type\": \"scatter\", \"x\": [2, 5, 10, 20, 50], \"y\": [0.8591183075286609, 0.8591183075286609, 0.8591183075286609, 0.8591183075286609, 0.8594728755466257, 0.8592364968679825, 0.8591183075286609, 0.8594728755466257, 0.8625457983689871, 0.8621912303510223, 0.8625457983689871, 0.8623094196903439, 0.8405625812551708, 0.840208013237206, 0.8411535279517788, 0.8426899893629595, 0.836425954378915, 0.8380806051294173, 0.8406807705944924, 0.8422172320056731]}],\n",
              "                        {\"template\": {\"data\": {\"bar\": [{\"error_x\": {\"color\": \"#2a3f5f\"}, \"error_y\": {\"color\": \"#2a3f5f\"}, \"marker\": {\"line\": {\"color\": \"#E5ECF6\", \"width\": 0.5}}, \"type\": \"bar\"}], \"barpolar\": [{\"marker\": {\"line\": {\"color\": \"#E5ECF6\", \"width\": 0.5}}, \"type\": \"barpolar\"}], \"carpet\": [{\"aaxis\": {\"endlinecolor\": \"#2a3f5f\", \"gridcolor\": \"white\", \"linecolor\": \"white\", \"minorgridcolor\": \"white\", \"startlinecolor\": \"#2a3f5f\"}, \"baxis\": {\"endlinecolor\": \"#2a3f5f\", \"gridcolor\": \"white\", \"linecolor\": \"white\", \"minorgridcolor\": \"white\", \"startlinecolor\": \"#2a3f5f\"}, \"type\": \"carpet\"}], \"choropleth\": [{\"colorbar\": {\"outlinewidth\": 0, \"ticks\": \"\"}, \"type\": \"choropleth\"}], \"contour\": [{\"colorbar\": {\"outlinewidth\": 0, \"ticks\": \"\"}, \"colorscale\": [[0.0, \"#0d0887\"], [0.1111111111111111, \"#46039f\"], [0.2222222222222222, \"#7201a8\"], [0.3333333333333333, \"#9c179e\"], [0.4444444444444444, \"#bd3786\"], [0.5555555555555556, \"#d8576b\"], [0.6666666666666666, \"#ed7953\"], [0.7777777777777778, \"#fb9f3a\"], [0.8888888888888888, \"#fdca26\"], [1.0, \"#f0f921\"]], \"type\": \"contour\"}], \"contourcarpet\": [{\"colorbar\": {\"outlinewidth\": 0, \"ticks\": \"\"}, \"type\": \"contourcarpet\"}], \"heatmap\": [{\"colorbar\": {\"outlinewidth\": 0, \"ticks\": \"\"}, \"colorscale\": [[0.0, \"#0d0887\"], [0.1111111111111111, \"#46039f\"], [0.2222222222222222, \"#7201a8\"], [0.3333333333333333, \"#9c179e\"], [0.4444444444444444, \"#bd3786\"], [0.5555555555555556, \"#d8576b\"], [0.6666666666666666, \"#ed7953\"], [0.7777777777777778, \"#fb9f3a\"], [0.8888888888888888, \"#fdca26\"], [1.0, \"#f0f921\"]], \"type\": \"heatmap\"}], \"heatmapgl\": [{\"colorbar\": {\"outlinewidth\": 0, \"ticks\": \"\"}, \"colorscale\": [[0.0, \"#0d0887\"], [0.1111111111111111, \"#46039f\"], [0.2222222222222222, \"#7201a8\"], [0.3333333333333333, \"#9c179e\"], [0.4444444444444444, \"#bd3786\"], [0.5555555555555556, \"#d8576b\"], [0.6666666666666666, \"#ed7953\"], [0.7777777777777778, \"#fb9f3a\"], [0.8888888888888888, \"#fdca26\"], [1.0, \"#f0f921\"]], \"type\": \"heatmapgl\"}], \"histogram\": [{\"marker\": {\"colorbar\": {\"outlinewidth\": 0, \"ticks\": \"\"}}, \"type\": \"histogram\"}], \"histogram2d\": [{\"colorbar\": {\"outlinewidth\": 0, \"ticks\": \"\"}, \"colorscale\": [[0.0, \"#0d0887\"], [0.1111111111111111, \"#46039f\"], [0.2222222222222222, \"#7201a8\"], [0.3333333333333333, \"#9c179e\"], [0.4444444444444444, \"#bd3786\"], [0.5555555555555556, \"#d8576b\"], [0.6666666666666666, \"#ed7953\"], [0.7777777777777778, \"#fb9f3a\"], [0.8888888888888888, \"#fdca26\"], [1.0, \"#f0f921\"]], \"type\": \"histogram2d\"}], \"histogram2dcontour\": [{\"colorbar\": {\"outlinewidth\": 0, \"ticks\": \"\"}, \"colorscale\": [[0.0, \"#0d0887\"], [0.1111111111111111, \"#46039f\"], [0.2222222222222222, \"#7201a8\"], [0.3333333333333333, \"#9c179e\"], [0.4444444444444444, \"#bd3786\"], [0.5555555555555556, \"#d8576b\"], [0.6666666666666666, \"#ed7953\"], [0.7777777777777778, \"#fb9f3a\"], [0.8888888888888888, \"#fdca26\"], [1.0, \"#f0f921\"]], \"type\": \"histogram2dcontour\"}], \"mesh3d\": [{\"colorbar\": {\"outlinewidth\": 0, \"ticks\": \"\"}, \"type\": \"mesh3d\"}], \"parcoords\": [{\"line\": {\"colorbar\": {\"outlinewidth\": 0, \"ticks\": \"\"}}, \"type\": \"parcoords\"}], \"pie\": [{\"automargin\": true, \"type\": \"pie\"}], \"scatter\": [{\"marker\": {\"colorbar\": {\"outlinewidth\": 0, \"ticks\": \"\"}}, \"type\": \"scatter\"}], \"scatter3d\": [{\"line\": {\"colorbar\": {\"outlinewidth\": 0, \"ticks\": \"\"}}, \"marker\": {\"colorbar\": {\"outlinewidth\": 0, \"ticks\": \"\"}}, \"type\": \"scatter3d\"}], \"scattercarpet\": [{\"marker\": {\"colorbar\": {\"outlinewidth\": 0, \"ticks\": \"\"}}, \"type\": \"scattercarpet\"}], \"scattergeo\": [{\"marker\": {\"colorbar\": {\"outlinewidth\": 0, \"ticks\": \"\"}}, \"type\": \"scattergeo\"}], \"scattergl\": [{\"marker\": {\"colorbar\": {\"outlinewidth\": 0, \"ticks\": \"\"}}, \"type\": \"scattergl\"}], \"scattermapbox\": [{\"marker\": {\"colorbar\": {\"outlinewidth\": 0, \"ticks\": \"\"}}, \"type\": \"scattermapbox\"}], \"scatterpolar\": [{\"marker\": {\"colorbar\": {\"outlinewidth\": 0, \"ticks\": \"\"}}, \"type\": \"scatterpolar\"}], \"scatterpolargl\": [{\"marker\": {\"colorbar\": {\"outlinewidth\": 0, \"ticks\": \"\"}}, \"type\": \"scatterpolargl\"}], \"scatterternary\": [{\"marker\": {\"colorbar\": {\"outlinewidth\": 0, \"ticks\": \"\"}}, \"type\": \"scatterternary\"}], \"surface\": [{\"colorbar\": {\"outlinewidth\": 0, \"ticks\": \"\"}, \"colorscale\": [[0.0, \"#0d0887\"], [0.1111111111111111, \"#46039f\"], [0.2222222222222222, \"#7201a8\"], [0.3333333333333333, \"#9c179e\"], [0.4444444444444444, \"#bd3786\"], [0.5555555555555556, \"#d8576b\"], [0.6666666666666666, \"#ed7953\"], [0.7777777777777778, \"#fb9f3a\"], [0.8888888888888888, \"#fdca26\"], [1.0, \"#f0f921\"]], \"type\": \"surface\"}], \"table\": [{\"cells\": {\"fill\": {\"color\": \"#EBF0F8\"}, \"line\": {\"color\": \"white\"}}, \"header\": {\"fill\": {\"color\": \"#C8D4E3\"}, \"line\": {\"color\": \"white\"}}, \"type\": \"table\"}]}, \"layout\": {\"annotationdefaults\": {\"arrowcolor\": \"#2a3f5f\", \"arrowhead\": 0, \"arrowwidth\": 1}, \"coloraxis\": {\"colorbar\": {\"outlinewidth\": 0, \"ticks\": \"\"}}, \"colorscale\": {\"diverging\": [[0, \"#8e0152\"], [0.1, \"#c51b7d\"], [0.2, \"#de77ae\"], [0.3, \"#f1b6da\"], [0.4, \"#fde0ef\"], [0.5, \"#f7f7f7\"], [0.6, \"#e6f5d0\"], [0.7, \"#b8e186\"], [0.8, \"#7fbc41\"], [0.9, \"#4d9221\"], [1, \"#276419\"]], \"sequential\": [[0.0, \"#0d0887\"], [0.1111111111111111, \"#46039f\"], [0.2222222222222222, \"#7201a8\"], [0.3333333333333333, \"#9c179e\"], [0.4444444444444444, \"#bd3786\"], [0.5555555555555556, \"#d8576b\"], [0.6666666666666666, \"#ed7953\"], [0.7777777777777778, \"#fb9f3a\"], [0.8888888888888888, \"#fdca26\"], [1.0, \"#f0f921\"]], \"sequentialminus\": [[0.0, \"#0d0887\"], [0.1111111111111111, \"#46039f\"], [0.2222222222222222, \"#7201a8\"], [0.3333333333333333, \"#9c179e\"], [0.4444444444444444, \"#bd3786\"], [0.5555555555555556, \"#d8576b\"], [0.6666666666666666, \"#ed7953\"], [0.7777777777777778, \"#fb9f3a\"], [0.8888888888888888, \"#fdca26\"], [1.0, \"#f0f921\"]]}, \"colorway\": [\"#636efa\", \"#EF553B\", \"#00cc96\", \"#ab63fa\", \"#FFA15A\", \"#19d3f3\", \"#FF6692\", \"#B6E880\", \"#FF97FF\", \"#FECB52\"], \"font\": {\"color\": \"#2a3f5f\"}, \"geo\": {\"bgcolor\": \"white\", \"lakecolor\": \"white\", \"landcolor\": \"#E5ECF6\", \"showlakes\": true, \"showland\": true, \"subunitcolor\": \"white\"}, \"hoverlabel\": {\"align\": \"left\"}, \"hovermode\": \"closest\", \"mapbox\": {\"style\": \"light\"}, \"paper_bgcolor\": \"white\", \"plot_bgcolor\": \"#E5ECF6\", \"polar\": {\"angularaxis\": {\"gridcolor\": \"white\", \"linecolor\": \"white\", \"ticks\": \"\"}, \"bgcolor\": \"#E5ECF6\", \"radialaxis\": {\"gridcolor\": \"white\", \"linecolor\": \"white\", \"ticks\": \"\"}}, \"scene\": {\"xaxis\": {\"backgroundcolor\": \"#E5ECF6\", \"gridcolor\": \"white\", \"gridwidth\": 2, \"linecolor\": \"white\", \"showbackground\": true, \"ticks\": \"\", \"zerolinecolor\": \"white\"}, \"yaxis\": {\"backgroundcolor\": \"#E5ECF6\", \"gridcolor\": \"white\", \"gridwidth\": 2, \"linecolor\": \"white\", \"showbackground\": true, \"ticks\": \"\", \"zerolinecolor\": \"white\"}, \"zaxis\": {\"backgroundcolor\": \"#E5ECF6\", \"gridcolor\": \"white\", \"gridwidth\": 2, \"linecolor\": \"white\", \"showbackground\": true, \"ticks\": \"\", \"zerolinecolor\": \"white\"}}, \"shapedefaults\": {\"line\": {\"color\": \"#2a3f5f\"}}, \"ternary\": {\"aaxis\": {\"gridcolor\": \"white\", \"linecolor\": \"white\", \"ticks\": \"\"}, \"baxis\": {\"gridcolor\": \"white\", \"linecolor\": \"white\", \"ticks\": \"\"}, \"bgcolor\": \"#E5ECF6\", \"caxis\": {\"gridcolor\": \"white\", \"linecolor\": \"white\", \"ticks\": \"\"}}, \"title\": {\"x\": 0.05}, \"xaxis\": {\"automargin\": true, \"gridcolor\": \"white\", \"linecolor\": \"white\", \"ticks\": \"\", \"title\": {\"standoff\": 15}, \"zerolinecolor\": \"white\", \"zerolinewidth\": 2}, \"yaxis\": {\"automargin\": true, \"gridcolor\": \"white\", \"linecolor\": \"white\", \"ticks\": \"\", \"title\": {\"standoff\": 15}, \"zerolinecolor\": \"white\", \"zerolinewidth\": 2}}}},\n",
              "                        {\"responsive\": true}\n",
              "                    ).then(function(){\n",
              "                            \n",
              "var gd = document.getElementById('9d568d30-16d5-445f-b8ac-b668ec3aa049');\n",
              "var x = new MutationObserver(function (mutations, observer) {{\n",
              "        var display = window.getComputedStyle(gd).display;\n",
              "        if (!display || display === 'none') {{\n",
              "            console.log([gd, 'removed!']);\n",
              "            Plotly.purge(gd);\n",
              "            observer.disconnect();\n",
              "        }}\n",
              "}});\n",
              "\n",
              "// Listen for the removal of the full notebook cells\n",
              "var notebookContainer = gd.closest('#notebook-container');\n",
              "if (notebookContainer) {{\n",
              "    x.observe(notebookContainer, {childList: true});\n",
              "}}\n",
              "\n",
              "// Listen for the clearing of the current output cell\n",
              "var outputEl = gd.closest('.output');\n",
              "if (outputEl) {{\n",
              "    x.observe(outputEl, {childList: true});\n",
              "}}\n",
              "\n",
              "                        })\n",
              "                };\n",
              "                \n",
              "            </script>\n",
              "        </div>\n",
              "</body>\n",
              "</html>"
            ]
          },
          "metadata": {}
        }
      ]
    },
    {
      "cell_type": "code",
      "metadata": {
        "colab": {
          "base_uri": "https://localhost:8080/",
          "height": 457
        },
        "id": "lgdNZzUiO1T0",
        "outputId": "0ce5f847-fc89-482b-9238-e78c6c7b3aba"
      },
      "source": [
        "# compute feature importances\n",
        "importance = pd.DataFrame({\n",
        "    'feature': train_x.columns.tolist(),\n",
        "    'importance': rf.feature_importances_\n",
        "}).sort_values('importance', ascending=False).reset_index(drop=True)\n",
        "\n",
        "importance"
      ],
      "execution_count": null,
      "outputs": [
        {
          "output_type": "execute_result",
          "data": {
            "text/html": [
              "<div>\n",
              "<style scoped>\n",
              "    .dataframe tbody tr th:only-of-type {\n",
              "        vertical-align: middle;\n",
              "    }\n",
              "\n",
              "    .dataframe tbody tr th {\n",
              "        vertical-align: top;\n",
              "    }\n",
              "\n",
              "    .dataframe thead th {\n",
              "        text-align: right;\n",
              "    }\n",
              "</style>\n",
              "<table border=\"1\" class=\"dataframe\">\n",
              "  <thead>\n",
              "    <tr style=\"text-align: right;\">\n",
              "      <th></th>\n",
              "      <th>feature</th>\n",
              "      <th>importance</th>\n",
              "    </tr>\n",
              "  </thead>\n",
              "  <tbody>\n",
              "    <tr>\n",
              "      <th>0</th>\n",
              "      <td>duration_ms</td>\n",
              "      <td>0.140726</td>\n",
              "    </tr>\n",
              "    <tr>\n",
              "      <th>1</th>\n",
              "      <td>danceability</td>\n",
              "      <td>0.112862</td>\n",
              "    </tr>\n",
              "    <tr>\n",
              "      <th>2</th>\n",
              "      <td>speechiness</td>\n",
              "      <td>0.108813</td>\n",
              "    </tr>\n",
              "    <tr>\n",
              "      <th>3</th>\n",
              "      <td>energy</td>\n",
              "      <td>0.098087</td>\n",
              "    </tr>\n",
              "    <tr>\n",
              "      <th>4</th>\n",
              "      <td>tempo</td>\n",
              "      <td>0.094111</td>\n",
              "    </tr>\n",
              "    <tr>\n",
              "      <th>5</th>\n",
              "      <td>instrumentalness</td>\n",
              "      <td>0.092605</td>\n",
              "    </tr>\n",
              "    <tr>\n",
              "      <th>6</th>\n",
              "      <td>acousticness</td>\n",
              "      <td>0.086025</td>\n",
              "    </tr>\n",
              "    <tr>\n",
              "      <th>7</th>\n",
              "      <td>loudness</td>\n",
              "      <td>0.078619</td>\n",
              "    </tr>\n",
              "    <tr>\n",
              "      <th>8</th>\n",
              "      <td>valence</td>\n",
              "      <td>0.072927</td>\n",
              "    </tr>\n",
              "    <tr>\n",
              "      <th>9</th>\n",
              "      <td>liveness</td>\n",
              "      <td>0.063909</td>\n",
              "    </tr>\n",
              "    <tr>\n",
              "      <th>10</th>\n",
              "      <td>key</td>\n",
              "      <td>0.036404</td>\n",
              "    </tr>\n",
              "    <tr>\n",
              "      <th>11</th>\n",
              "      <td>mode</td>\n",
              "      <td>0.009753</td>\n",
              "    </tr>\n",
              "    <tr>\n",
              "      <th>12</th>\n",
              "      <td>time_signature</td>\n",
              "      <td>0.005159</td>\n",
              "    </tr>\n",
              "  </tbody>\n",
              "</table>\n",
              "</div>"
            ],
            "text/plain": [
              "             feature  importance\n",
              "0        duration_ms    0.140726\n",
              "1       danceability    0.112862\n",
              "2        speechiness    0.108813\n",
              "3             energy    0.098087\n",
              "4              tempo    0.094111\n",
              "5   instrumentalness    0.092605\n",
              "6       acousticness    0.086025\n",
              "7           loudness    0.078619\n",
              "8            valence    0.072927\n",
              "9           liveness    0.063909\n",
              "10               key    0.036404\n",
              "11              mode    0.009753\n",
              "12    time_signature    0.005159"
            ]
          },
          "metadata": {},
          "execution_count": 35
        }
      ]
    },
    {
      "cell_type": "code",
      "metadata": {
        "colab": {
          "base_uri": "https://localhost:8080/",
          "height": 405
        },
        "id": "UtlL2LiMPUNx",
        "outputId": "dfd59a61-9258-49cc-ed93-2d20f893ea5d"
      },
      "source": [
        "\n",
        "sns.barplot(data=importance, x ='feature', y='importance',palette = \"bright\").set(title=\"What are the important features for the problem?\")\n",
        "plt.xticks(rotation=70)"
      ],
      "execution_count": null,
      "outputs": [
        {
          "output_type": "execute_result",
          "data": {
            "text/plain": [
              "(array([ 0,  1,  2,  3,  4,  5,  6,  7,  8,  9, 10, 11, 12]),\n",
              " <a list of 13 Text major ticklabel objects>)"
            ]
          },
          "metadata": {},
          "execution_count": 36
        },
        {
          "output_type": "display_data",
          "data": {
            "image/png": "[encoded data removed]",
            "text/plain": [
              "<Figure size 432x288 with 1 Axes>"
            ]
          },
          "metadata": {
            "needs_background": "light"
          }
        }
      ]
    },
    {
      "cell_type": "markdown",
      "source": [
        "### Logistic regression"
      ],
      "metadata": {
        "id": "YvN_KW6GO1wN"
      }
    },
    {
      "cell_type": "code",
      "metadata": {
        "id": "AYIg4r1wPVW5"
      },
      "source": [
        "# Logistic Regression\n",
        "import sklearn.linear_model as model\n",
        "\n"
      ],
      "execution_count": null,
      "outputs": []
    },
    {
      "cell_type": "code",
      "metadata": {
        "colab": {
          "base_uri": "https://localhost:8080/"
        },
        "id": "8hAKj5G-Pj7R",
        "outputId": "b1f87b0c-654d-4df0-9ccb-ac62fa1432bd"
      },
      "source": [
        "log_reg_woscaler = model.LogisticRegression(max_iter=1000)\n",
        "log_reg_woscaler.fit(train_x, train_y)\n",
        "\n",
        "# Logistic regression does not like it when the features (our description columns) have different ranges in their values, \n",
        "# e.g. danceability has values btw 0 and 1 and duration_ms has values up to more than 800,000, loudness has negative values\n",
        "# That means we need to re-scale the features in such a way that they live on the same number range.\n",
        "# We use here the standard scaler of sklearn, which transforms all features to have a mean of 0 and a standard deviation of 1.\n",
        "# see https://en.wikipedia.org/wiki/Standard_score\n",
        "\n",
        "# we use pipleines from sklearn where we put the scaler and the logistic regression into one python-object, called \"pipe\"\n",
        "# https://scikit-learn.org/stable/modules/preprocessing.html\n",
        "log_reg = make_pipeline(StandardScaler(), LogisticRegression(max_iter=1000))\n",
        "log_reg.fit(train_x, train_y)  # apply scaling on training data\n"
      ],
      "execution_count": null,
      "outputs": [
        {
          "output_type": "execute_result",
          "data": {
            "text/plain": [
              "Pipeline(steps=[('standardscaler', StandardScaler()),\n",
              "                ('logisticregression', LogisticRegression(max_iter=1000))])"
            ]
          },
          "metadata": {},
          "execution_count": 38
        }
      ]
    },
    {
      "cell_type": "code",
      "metadata": {
        "id": "M_2Ui_ZiPnh4"
      },
      "source": [
        "# Check how the new trained model did\n",
        "pred = log_reg.predict(valid_x) # make sure that you test with the test set\n"
      ],
      "execution_count": null,
      "outputs": []
    },
    {
      "cell_type": "code",
      "metadata": {
        "colab": {
          "base_uri": "https://localhost:8080/"
        },
        "id": "qUaeWxHDPpph",
        "outputId": "0f330414-3c3b-4da5-d5ce-027aefe3f964"
      },
      "source": [
        "print(\"Accuracy without scaler: \")\n",
        "print(log_reg_woscaler.score(valid_x, valid_y) )\n",
        "print(\"Accuracy with scaler: \")\n",
        "print(log_reg.score(valid_x, valid_y))\n"
      ],
      "execution_count": null,
      "outputs": [
        {
          "output_type": "stream",
          "name": "stdout",
          "text": [
            "Accuracy without scaler: \n",
            "0.8539179765985108\n",
            "Accuracy with scaler: \n",
            "0.8612457156364496\n"
          ]
        }
      ]
    },
    {
      "cell_type": "markdown",
      "source": [
        "Investigating the logistic regression"
      ],
      "metadata": {
        "id": "OOfE_wPrZOFo"
      }
    },
    {
      "cell_type": "code",
      "source": [
        "train_x.columns"
      ],
      "metadata": {
        "colab": {
          "base_uri": "https://localhost:8080/"
        },
        "id": "kntBc_eqWpUJ",
        "outputId": "1c8ab716-f656-4f66-d0e0-b2a825b67613"
      },
      "execution_count": null,
      "outputs": [
        {
          "output_type": "execute_result",
          "data": {
            "text/plain": [
              "Index(['danceability', 'energy', 'key', 'loudness', 'mode', 'speechiness',\n",
              "       'acousticness', 'instrumentalness', 'liveness', 'valence', 'tempo',\n",
              "       'duration_ms', 'time_signature'],\n",
              "      dtype='object')"
            ]
          },
          "metadata": {},
          "execution_count": 41
        }
      ]
    },
    {
      "cell_type": "code",
      "source": [
        "# 8.41e-03 =  8.41 * 10^(-3)= 8.41 * 1/1000\n",
        "# 10**(-5) = 1/100,000"
      ],
      "metadata": {
        "id": "o-NJ16kWW2SX"
      },
      "execution_count": null,
      "outputs": []
    },
    {
      "cell_type": "code",
      "source": [
        "#b = a0 + a1*feat1 + a2*feat2\n",
        "\n",
        "log_reg_woscaler.coef_"
      ],
      "metadata": {
        "colab": {
          "base_uri": "https://localhost:8080/"
        },
        "id": "uM4wGMOCWbAL",
        "outputId": "4bbd7aed-bbc0-4925-a0fd-3ac26f36d1e1"
      },
      "execution_count": null,
      "outputs": [
        {
          "output_type": "execute_result",
          "data": {
            "text/plain": [
              "array([[ 7.21773302e-05, -1.05118121e-05,  1.79037525e-04,\n",
              "        -7.09448515e-04,  4.41735486e-05,  3.73134904e-05,\n",
              "         2.52536368e-05, -5.81601803e-05, -3.62577084e-07,\n",
              "         4.73033001e-05,  8.41072875e-03, -1.47322771e-05,\n",
              "         1.78126641e-04]])"
            ]
          },
          "metadata": {},
          "execution_count": 43
        }
      ]
    },
    {
      "cell_type": "code",
      "metadata": {
        "id": "T__KH4xjI3Y6"
      },
      "source": [
        "for col in CAT_COLS:\n",
        "  df[col] = LabelEncoder().fit_transform(df[col])   # Encode categorical variables as dummies"
      ],
      "execution_count": null,
      "outputs": []
    },
    {
      "cell_type": "code",
      "metadata": {
        "id": "hdE02_ArJ5zp"
      },
      "source": [
        "y = df[\"genre\"].copy()\n",
        "x =df.drop(columns =\"genre\").copy()"
      ],
      "execution_count": null,
      "outputs": []
    },
    {
      "cell_type": "markdown",
      "source": [
        "###Expand to multilabel classification"
      ],
      "metadata": {
        "id": "wFpi7UmRZtI-"
      }
    },
    {
      "cell_type": "code",
      "source": [
        "## prepare data\n",
        "# note: ml=multilabel\n",
        "# labels\n",
        "y_ml = df[\"genre\"].copy()\n",
        "# features\n",
        "x_ml = df.drop(columns =[\"genre\", \"is_undergroundrap\", \"id\"]).copy()\n",
        "\n",
        "# train test split\n",
        "train_x_ml, valid_x_ml, train_y_ml, valid_y_ml = train_test_split(x_ml, y_ml, test_size=0.2, random_state = 42)"
      ],
      "metadata": {
        "id": "4CqhQQgrZsZE"
      },
      "execution_count": null,
      "outputs": []
    },
    {
      "cell_type": "markdown",
      "source": [
        "#### Random Forest"
      ],
      "metadata": {
        "id": "7uvuaCk7r_H1"
      }
    },
    {
      "cell_type": "code",
      "source": [
        "# random forest works automatically also with multiple labels\n",
        "rf_ml = RandomForestClassifier(\n",
        "    n_estimators=500, # number of trees you want to build\n",
        "    bootstrap=True,\n",
        "    random_state=42\n",
        ")\n",
        "rf_ml.fit(train_x_ml, train_y_ml.values.ravel())\n",
        "rf_preds = rf_ml.predict(valid_x_ml)"
      ],
      "metadata": {
        "id": "a5hUudSla5uA"
      },
      "execution_count": null,
      "outputs": []
    },
    {
      "cell_type": "code",
      "source": [
        "accuracy_score(rf_ml.predict(valid_x_ml), valid_y_ml)"
      ],
      "metadata": {
        "id": "90u_RRPfdDGV",
        "colab": {
          "base_uri": "https://localhost:8080/"
        },
        "outputId": "dabe9ec7-523c-48f1-98f3-000f471f5a6e"
      },
      "execution_count": null,
      "outputs": [
        {
          "output_type": "execute_result",
          "data": {
            "text/plain": [
              "0.6728519087578301"
            ]
          },
          "metadata": {},
          "execution_count": 48
        }
      ]
    },
    {
      "cell_type": "markdown",
      "source": [
        "#### Logistic Regression"
      ],
      "metadata": {
        "id": "EnyTtPIFsDjx"
      }
    },
    {
      "cell_type": "code",
      "source": [
        "# to use multiple labels with logisitc regression one needs to add ' multi_class=\"multinomial\" ' as parameter\n",
        "log_reg_ml = make_pipeline(StandardScaler(), LogisticRegression(max_iter=1000, multi_class=\"multinomial\"))\n",
        "log_reg_ml.fit(train_x_ml, train_y_ml)  # apply scaling on training data"
      ],
      "metadata": {
        "id": "3FbDZDcCsv73",
        "colab": {
          "base_uri": "https://localhost:8080/"
        },
        "outputId": "19b9dd9b-14ed-484c-98f5-f828e265a8da"
      },
      "execution_count": null,
      "outputs": [
        {
          "output_type": "execute_result",
          "data": {
            "text/plain": [
              "Pipeline(steps=[('standardscaler', StandardScaler()),\n",
              "                ('logisticregression',\n",
              "                 LogisticRegression(max_iter=1000, multi_class='multinomial'))])"
            ]
          },
          "metadata": {},
          "execution_count": 49
        }
      ]
    },
    {
      "cell_type": "code",
      "source": [
        "log_reg_ml.score(valid_x_ml, valid_y_ml)"
      ],
      "metadata": {
        "id": "5NC180m8s_xd",
        "colab": {
          "base_uri": "https://localhost:8080/"
        },
        "outputId": "66176b79-43be-4cdb-d75a-235aef03e338"
      },
      "execution_count": null,
      "outputs": [
        {
          "output_type": "execute_result",
          "data": {
            "text/plain": [
              "0.5972107315920104"
            ]
          },
          "metadata": {},
          "execution_count": 50
        }
      ]
    },
    {
      "cell_type": "markdown",
      "source": [
        "#### Confusion matrix\n",
        "Let's inspect how our classification works by inspecting the confusion matrix. the confusion matrix tells us how often the predicted label is correct and how often it is wrong. A good explanation can be found here: \n",
        "- https://www.dataschool.io/simple-guide-to-confusion-matrix-terminology/ and here \n",
        "- https://towardsdatascience.com/visual-guide-to-the-confusion-matrix-bb63730c8eba\n",
        "\n",
        "In real short a confusion matrix consist of 4 numbers and looks like this:\n",
        "\n",
        "\n",
        "```\n",
        "    num1 num2\n",
        "    num3 num4\n",
        "```\n",
        "where `num1` and `num4` are the cases where the classifier predicted the correct label and `num2` and `num3` are the cases where the classifier made a mistake and predicted the wrong label.\n",
        "\n",
        "\n"
      ],
      "metadata": {
        "id": "V7hgABmUtEMD"
      }
    },
    {
      "cell_type": "code",
      "source": [
        "# for plotting I will use the following function taken by https://stackoverflow.com/questions/39033880/plot-confusion-matrix-sklearn-with-multiple-labels\n",
        "def plot_confusion_matrix(cm,\n",
        "                          target_names,\n",
        "                          title='Confusion matrix',\n",
        "                          cmap=None,\n",
        "                          normalize=True):\n",
        "    \"\"\"\n",
        "    given a sklearn confusion matrix (cm), make a nice plot\n",
        "\n",
        "    Arguments\n",
        "    ---------\n",
        "    cm:           confusion matrix from sklearn.metrics.confusion_matrix\n",
        "\n",
        "    target_names: given classification classes such as [0, 1, 2]\n",
        "                  the class names, for example: ['high', 'medium', 'low']\n",
        "\n",
        "    title:        the text to display at the top of the matrix\n",
        "\n",
        "    cmap:         the gradient of the values displayed from matplotlib.pyplot.cm\n",
        "                  see http://matplotlib.org/examples/color/colormaps_reference.html\n",
        "                  plt.get_cmap('jet') or plt.cm.Blues\n",
        "\n",
        "    normalize:    If False, plot the raw numbers\n",
        "                  If True, plot the proportions\n",
        "\n",
        "    Usage\n",
        "    -----\n",
        "    plot_confusion_matrix(cm           = cm,                  # confusion matrix created by\n",
        "                                                              # sklearn.metrics.confusion_matrix\n",
        "                          normalize    = True,                # show proportions\n",
        "                          target_names = y_labels_vals,       # list of names of the classes\n",
        "                          title        = best_estimator_name) # title of graph\n",
        "\n",
        "    Citiation\n",
        "    ---------\n",
        "    http://scikit-learn.org/stable/auto_examples/model_selection/plot_confusion_matrix.html\n",
        "\n",
        "    \"\"\"\n",
        "    import matplotlib.pyplot as plt\n",
        "    import numpy as np\n",
        "    import itertools\n",
        "\n",
        "    accuracy = np.trace(cm) / float(np.sum(cm))\n",
        "    misclass = 1 - accuracy\n",
        "\n",
        "    if cmap is None:\n",
        "        cmap = plt.get_cmap('Blues')\n",
        "\n",
        "    plt.figure(figsize=(8, 6))\n",
        "    plt.imshow(cm, interpolation='nearest', cmap=cmap)\n",
        "    plt.title(title)\n",
        "    plt.colorbar()\n",
        "\n",
        "    if target_names is not None:\n",
        "        tick_marks = np.arange(len(target_names))\n",
        "        plt.xticks(tick_marks, target_names, rotation=45)\n",
        "        plt.yticks(tick_marks, target_names)\n",
        "\n",
        "    if normalize:\n",
        "        cm = cm.astype('float') / cm.sum(axis=1)[:, np.newaxis]\n"
      ],
      "metadata": {
        "id": "GxSGnLenuHLA"
      },
      "execution_count": null,
      "outputs": []
    },
    {
      "cell_type": "markdown",
      "source": [
        "#### Confusion matrix for Random Forest"
      ],
      "metadata": {
        "id": "yH8uREHTuA-9"
      }
    },
    {
      "cell_type": "code",
      "source": [
        "y_unique = valid_y_ml.unique()\n",
        "mcm = multilabel_confusion_matrix(rf_ml.predict(valid_x_ml), valid_y_ml, labels=y_unique)\n",
        "for i in range(15):\n",
        "  print(y_unique[i])\n",
        "  print(mcm[i])\n",
        "  print('')\n"
      ],
      "metadata": {
        "id": "PYlXv3FunwIp",
        "colab": {
          "base_uri": "https://localhost:8080/"
        },
        "outputId": "005636e7-7245-4b12-f11c-5dd5c159c7b9"
      },
      "execution_count": null,
      "outputs": [
        {
          "output_type": "stream",
          "name": "stdout",
          "text": [
            "7\n",
            "[[6292  568]\n",
            " [ 977  624]]\n",
            "\n",
            "11\n",
            "[[7816   54]\n",
            " [  77  514]]\n",
            "\n",
            "6\n",
            "[[7900  280]\n",
            " [ 177  104]]\n",
            "\n",
            "12\n",
            "[[7793   84]\n",
            " [  78  506]]\n",
            "\n",
            "2\n",
            "[[7517  369]\n",
            " [ 323  252]]\n",
            "\n",
            "3\n",
            "[[8343   88]\n",
            " [  20   10]]\n",
            "\n",
            "5\n",
            "[[7853  249]\n",
            " [ 212  147]]\n",
            "\n",
            "13\n",
            "[[7789   59]\n",
            " [ 110  503]]\n",
            "\n",
            "10\n",
            "[[7828   43]\n",
            " [  35  555]]\n",
            "\n",
            "14\n",
            "[[7812   85]\n",
            " [  67  497]]\n",
            "\n",
            "4\n",
            "[[8013  235]\n",
            " [ 107  106]]\n",
            "\n",
            "0\n",
            "[[7102  522]\n",
            " [ 389  448]]\n",
            "\n",
            "8\n",
            "[[7836    9]\n",
            " [  26  590]]\n",
            "\n",
            "1\n",
            "[[8025   83]\n",
            " [  95  258]]\n",
            "\n",
            "9\n",
            "[[7767   40]\n",
            " [  75  579]]\n",
            "\n"
          ]
        }
      ]
    },
    {
      "cell_type": "markdown",
      "source": [
        "\n",
        "\n",
        "HipHop, RnB and Rap are very hard to predict because they have many errors in thier prediction, while e.g. tranc, dnb and Emo mcuh lower errors in their prediction. "
      ],
      "metadata": {
        "id": "To-YBXRhuZqO"
      }
    },
    {
      "cell_type": "code",
      "source": [
        "cm = confusion_matrix(rf_ml.predict(valid_x_ml), valid_y_ml, labels = y_unique)\n",
        "plot_confusion_matrix(cm, y_unique)"
      ],
      "metadata": {
        "id": "nO54uVG8v12R",
        "colab": {
          "base_uri": "https://localhost:8080/",
          "height": 396
        },
        "outputId": "5225dd5a-3624-4e2e-813b-e446b10805b3"
      },
      "execution_count": null,
      "outputs": [
        {
          "output_type": "display_data",
          "data": {
            "image/png": "[encoded data removed]",
            "text/plain": [
              "<Figure size 576x432 with 2 Axes>"
            ]
          },
          "metadata": {
            "needs_background": "light"
          }
        }
      ]
    },
    {
      "cell_type": "markdown",
      "source": [
        "This confusion matrix tells us more abut the error. For example, Dark Trap is often falsely predicted as Underground Rap. Also Hiphop is often falsey predicted to be Underground Rap. "
      ],
      "metadata": {
        "id": "isKdu1nnwBqL"
      }
    },
    {
      "cell_type": "markdown",
      "source": [
        "#### Confsuion Matrix for Logisitc regresssion"
      ],
      "metadata": {
        "id": "MoxcdSCHwh9F"
      }
    },
    {
      "cell_type": "code",
      "source": [
        "y_unique = valid_y_ml.unique()\n",
        "multilabel_confusion_matrix(log_reg_ml.predict(valid_x_ml), valid_y_ml, labels = y_unique)\n",
        "cm = confusion_matrix(log_reg_ml.predict(valid_x_ml), valid_y_ml, labels = y_unique)"
      ],
      "metadata": {
        "id": "fp6pPUVQn9LX"
      },
      "execution_count": null,
      "outputs": []
    },
    {
      "cell_type": "code",
      "source": [
        "for i in range(15):\n",
        "  print(y_unique[i])\n",
        "  print(mcm[i])\n",
        "  print('')"
      ],
      "metadata": {
        "id": "-x-k5uJMwtCe",
        "colab": {
          "base_uri": "https://localhost:8080/"
        },
        "outputId": "dc9f1f00-a8cd-4209-cd42-aa03d178a617"
      },
      "execution_count": null,
      "outputs": [
        {
          "output_type": "stream",
          "name": "stdout",
          "text": [
            "7\n",
            "[[6292  568]\n",
            " [ 977  624]]\n",
            "\n",
            "11\n",
            "[[7816   54]\n",
            " [  77  514]]\n",
            "\n",
            "6\n",
            "[[7900  280]\n",
            " [ 177  104]]\n",
            "\n",
            "12\n",
            "[[7793   84]\n",
            " [  78  506]]\n",
            "\n",
            "2\n",
            "[[7517  369]\n",
            " [ 323  252]]\n",
            "\n",
            "3\n",
            "[[8343   88]\n",
            " [  20   10]]\n",
            "\n",
            "5\n",
            "[[7853  249]\n",
            " [ 212  147]]\n",
            "\n",
            "13\n",
            "[[7789   59]\n",
            " [ 110  503]]\n",
            "\n",
            "10\n",
            "[[7828   43]\n",
            " [  35  555]]\n",
            "\n",
            "14\n",
            "[[7812   85]\n",
            " [  67  497]]\n",
            "\n",
            "4\n",
            "[[8013  235]\n",
            " [ 107  106]]\n",
            "\n",
            "0\n",
            "[[7102  522]\n",
            " [ 389  448]]\n",
            "\n",
            "8\n",
            "[[7836    9]\n",
            " [  26  590]]\n",
            "\n",
            "1\n",
            "[[8025   83]\n",
            " [  95  258]]\n",
            "\n",
            "9\n",
            "[[7767   40]\n",
            " [  75  579]]\n",
            "\n"
          ]
        }
      ]
    },
    {
      "cell_type": "code",
      "source": [
        "plot_confusion_matrix(cm, y_unique)"
      ],
      "metadata": {
        "id": "GoJPV6KJpfWA",
        "colab": {
          "base_uri": "https://localhost:8080/",
          "height": 396
        },
        "outputId": "cf89625e-1793-47e5-8aca-afecee37be9d"
      },
      "execution_count": null,
      "outputs": [
        {
          "output_type": "display_data",
          "data": {
            "image/png": "[encoded data removed]",
            "text/plain": [
              "<Figure size 576x432 with 2 Axes>"
            ]
          },
          "metadata": {
            "needs_background": "light"
          }
        }
      ]
    },
    {
      "cell_type": "code",
      "source": [
        "# End of Project"
      ],
      "metadata": {
        "id": "U146GOzyCLqB"
      },
      "execution_count": null,
      "outputs": []
    }
  ]
}